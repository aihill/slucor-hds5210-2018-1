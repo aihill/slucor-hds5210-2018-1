{
 "cells": [
  {
   "cell_type": "markdown",
   "metadata": {},
   "source": [
    "_HDS5210 Programming for Health Data Science_\n",
    "\n",
    "# Week 12 - Introduction to Databases\n",
    "\n",
    "This week, we're talking about different types of databases and database concepts.\n"
   ]
  },
  {
   "cell_type": "markdown",
   "metadata": {},
   "source": [
    "1 - All Rows\n",
    "---\n",
    "\n",
    "Use SQL to retrieve a list of all of the records from plans_by_state and then count the results.  Do not aggregate or filter the results from the database.  Retreive all the records AND THEN count the results."
   ]
  },
  {
   "cell_type": "code",
   "execution_count": 2,
   "metadata": {},
   "outputs": [],
   "source": [
    "import pymysql\n",
    "import pandas as pd\n",
    "\n",
    "connection = pymysql.connect(\n",
    "    host='localhost',\n",
    "    user='slucor',\n",
    "    password='s1uc0r',\n",
    "    db='hds5210')\n",
    "\n",
    "####\n",
    "# Add your own code here\n",
    "####"
   ]
  },
  {
   "cell_type": "markdown",
   "metadata": {},
   "source": [
    "2 - Only Arizona plans\n",
    "---\n",
    "\n",
    "Which of the following queries give us a result with only plans from Arizona?"
   ]
  },
  {
   "cell_type": "markdown",
   "metadata": {},
   "source": [
    "A. `SELECT * FROM orgs_by_state WHERE state_name = 'Arizona'`\n",
    "\n",
    "B. `SELECT * WHERE state_name = 'Arizona' * FROM plans_by_state`\n",
    "\n",
    "C. `WHERE state_name = 'Arizona' SELECT * FROM plans_by_state`\n",
    "\n",
    "D. `SELECT * FROM plans_by_state WHERE state_name='Arizona'`"
   ]
  },
  {
   "cell_type": "markdown",
   "metadata": {},
   "source": [
    "**Answer:**  "
   ]
  },
  {
   "cell_type": "markdown",
   "metadata": {},
   "source": [
    "3 - How Many Plans per State?\n",
    "---\n",
    "\n",
    "Write a query that aggregates the plan information to return only one row per state and a count of plans for each state."
   ]
  },
  {
   "cell_type": "code",
   "execution_count": null,
   "metadata": {},
   "outputs": [],
   "source": [
    "######\n",
    "# You code\n",
    "######"
   ]
  },
  {
   "cell_type": "markdown",
   "metadata": {},
   "source": [
    "4 - How Many Plans and Orgs per State?\n",
    "---\n",
    "\n",
    "Aggregate the Orgs by State and Plans by State and count the total number of orgs and plans.  Then combine those results together.  The result that we're looking for will have one row per state and include columns for state_name, plan_count, and org_count.  You can do this either using entirely SQL or you can do it by retreiveing a part of the results from the database and then doing the rest of the work in Python.\n"
   ]
  },
  {
   "cell_type": "code",
   "execution_count": null,
   "metadata": {},
   "outputs": [],
   "source": [
    "import pymysql\n",
    "import pandas as pd\n",
    "\n",
    "connection = pymysql.connect(\n",
    "    host='localhost',\n",
    "    user='slucor',\n",
    "    password='s1uc0r',\n",
    "    db='hds5210')\n",
    "\n",
    "####\n",
    "# Add your own code here\n",
    "####"
   ]
  }
 ],
 "metadata": {
  "kernelspec": {
   "display_name": "Python 3",
   "language": "python",
   "name": "python3"
  },
  "language_info": {
   "codemirror_mode": {
    "name": "ipython",
    "version": 3
   },
   "file_extension": ".py",
   "mimetype": "text/x-python",
   "name": "python",
   "nbconvert_exporter": "python",
   "pygments_lexer": "ipython3",
   "version": "3.5.2"
  },
  "varInspector": {
   "cols": {
    "lenName": 16,
    "lenType": 16,
    "lenVar": 40
   },
   "kernels_config": {
    "python": {
     "delete_cmd_postfix": "",
     "delete_cmd_prefix": "del ",
     "library": "var_list.py",
     "varRefreshCmd": "print(var_dic_list())"
    },
    "r": {
     "delete_cmd_postfix": ") ",
     "delete_cmd_prefix": "rm(",
     "library": "var_list.r",
     "varRefreshCmd": "cat(var_dic_list()) "
    }
   },
   "types_to_exclude": [
    "module",
    "function",
    "builtin_function_or_method",
    "instance",
    "_Feature"
   ],
   "window_display": false
  }
 },
 "nbformat": 4,
 "nbformat_minor": 2
}
