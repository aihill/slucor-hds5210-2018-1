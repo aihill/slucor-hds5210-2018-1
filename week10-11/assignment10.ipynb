{
 "cells": [
  {
   "cell_type": "markdown",
   "metadata": {},
   "source": [
    "# Week 10 - Algorithms\n",
    "\n",
    "**Note that week 10 and week 11 will both have separate assignments, even though we won't have new materials presented during week 11 (4/16).  The week 11 assignment will be published in github at the end of this week on 4/13.**\n",
    "\n",
    "---\n",
    "\n",
    "For this week's homework, we're only going to solve one problem, but we're going to design a couple of different solutions to it: **Reverse Pivot**\n",
    "\n",
    "Remember back to the midterm when we did the pivot, here we're going to design algorithms for the reverse of that operation.  In Excel terms, this is usually the way a pivot table works.\n",
    "\n",
    "The objective is to take a rectangular list L (rows and columns) and unpivot the last two columns, assuming that the second to last column should be the output column header name, and the last column will be the row in the output.  Any missing values should be replaced with `None`.\n",
    "\n",
    "For example. The input:\n",
    "```\n",
    "[[ 'Name',   'Label',  'Value' ],\n",
    " [ 'Boal',   'Week 1',     10  ],\n",
    " [ 'Boal',   'Week 2',     11  ],\n",
    " [ 'Boal',   'Week 3',      7  ],\n",
    " [ 'Westus', 'Week 1',     12  ],\n",
    " [ 'Westus', 'Week 3',      4  ],\n",
    " [ 'Westus', 'Week 4',      9  ]]\n",
    "```\n",
    "\n",
    "Should become:\n",
    "```\n",
    "[[ 'Name',    'Week 1', 'Week 2', 'Week 3', 'Week 4' ],\n",
    " [ 'Boal',         10,       11,        7,     None  ],\n",
    " [ 'Westus',       12,     None,        4,        9  ]]\n",
    "```"
   ]
  },
  {
   "cell_type": "markdown",
   "metadata": {},
   "source": [
    "## 1 - Algorithm A\n",
    "\n",
    "Review the code below and explain why it will not work to create the desired output as described above.\n",
    "\n",
    "```\n",
    "\n",
    "def unpivot(matrix, count):\n",
    "\n",
    "    # Create a  new list to put our output in\n",
    "    # using the 'Name' label and `count` number output columns\n",
    "    output = [['Name']]\n",
    "    for i in range(count):\n",
    "        output[0].append('Week ' + str(i+1))\n",
    "\n",
    "    # Set a counter to pay attention to how many rows we have pivoted into columns\n",
    "    counter = 0\n",
    "\n",
    "    # Loop through the matrix one row at a time, skipping the header\n",
    "    for row in matrix[1:]:\n",
    "    \n",
    "        # If we're on the first output row in a group, initialize the output row variable\n",
    "        # with just the leading row label\n",
    "        if counter == 0:\n",
    "            outrow = [row[0]]\n",
    "        \n",
    "        # Append on the value from the input row\n",
    "        outrow.append(row[2])\n",
    "        \n",
    "        # Increment the counter \n",
    "        counter += 1\n",
    "        \n",
    "        # If we're greater than the number of output colummns, append the output row and reset\n",
    "        if counter >= count:\n",
    "            output.append(outrow)\n",
    "            counter = 0\n",
    "        \n",
    "\n",
    "    return output\n",
    "```\n"
   ]
  },
  {
   "cell_type": "markdown",
   "metadata": {
    "collapsed": true
   },
   "source": [
    "Response\n",
    "---\n",
    "\n",
    "Put your response here...\n"
   ]
  },
  {
   "cell_type": "markdown",
   "metadata": {},
   "source": [
    "---\n",
    "\n",
    "## 2 - Algorithm B\n",
    "\n",
    "Write out the steps of your own algorithm in words as a list of steps.  Don't write any code, yet.\n"
   ]
  },
  {
   "cell_type": "markdown",
   "metadata": {
    "collapsed": true
   },
   "source": [
    "Response\n",
    "---\n",
    "\n",
    "Put your steps here...\n",
    "\n",
    "1.\n",
    "\n",
    "2.\n",
    "\n",
    "3.\n",
    "\n",
    "4.\n",
    "\n",
    "..."
   ]
  },
  {
   "cell_type": "markdown",
   "metadata": {},
   "source": [
    "---\n",
    "\n",
    "## 3 - Implement Your Algorithm\n",
    "\n",
    "Implement your algorithm from above.  For this step, don't worry if it doesn't work.  Just write code that does what you descirbed above.  \n"
   ]
  },
  {
   "cell_type": "code",
   "execution_count": 2,
   "metadata": {},
   "outputs": [],
   "source": [
    "# Code here\n"
   ]
  },
  {
   "cell_type": "markdown",
   "metadata": {
    "collapsed": true
   },
   "source": [
    "---\n",
    "\n",
    "## 4 - Fix your algorithm\n",
    "\n",
    "Work on debugging your algorithm and code from steps 2 and 3.  Describe what steps you need to take to fix your  algorithm and/or code.  You don't not need to actually fix it.  Just take the time to think through HOW you would do that.\n",
    "\n",
    "\n",
    "If you did it perfectly the first time or worked in such a way that you debugged as you went, then suggest any ways that you can think of to make your algorithm and code faster, easier to read, or more flexible. "
   ]
  },
  {
   "cell_type": "markdown",
   "metadata": {},
   "source": [
    "Response\n",
    "---\n",
    "\n",
    "Your response here..."
   ]
  },
  {
   "cell_type": "code",
   "execution_count": 1,
   "metadata": {},
   "outputs": [],
   "source": [
    "M = [[ 'Name',   'Label',  'Value' ],\n",
    " [ 'Boal',   'Week 1',     10  ],\n",
    " [ 'Boal',   'Week 2',     11  ],\n",
    " [ 'Boal',   'Week 3',      7  ],\n",
    " [ 'Westus', 'Week 1',     12  ],\n",
    " [ 'Westus', 'Week 3',      4  ],\n",
    " [ 'Westus', 'Week 4',      9  ]]"
   ]
  },
  {
   "cell_type": "code",
   "execution_count": 28,
   "metadata": {},
   "outputs": [],
   "source": [
    "def unpivot (matrix):\n",
    "    output = []\n",
    "    \n",
    "    # How many total columns do we have\n",
    "    columns = len(matrix[0])\n",
    "    \n",
    "    keep_cols = len(matrix[0]) - 2\n",
    "    header_col = columns - 2\n",
    "    value_col = columns - 1\n",
    "    \n",
    "    # Get all the new output column headers that we'll need\n",
    "    headers = sorted(list(set([row[header_col] for row in matrix[1:]])))\n",
    "    \n",
    "    output = [matrix[0][:keep_cols] + headers]\n",
    "    \n",
    "    # Loop through the input and output it in the right places\n",
    "    last_name = []\n",
    "    for row in matrix[1:]:\n",
    "        name = row[0:keep_cols]\n",
    "        if name != last_name:\n",
    "            \n",
    "            # If we have a new \"name\" append the row we just finished working on\n",
    "            if len(last_name) > 0:\n",
    "                output.append(newrow)\n",
    "                \n",
    "            # Initialize the new output row\n",
    "            newrow = row[0:keep_cols] + ([None] * len(headers))\n",
    "            last_name = name\n",
    "        label = row[header_col]\n",
    "        pos = keep_cols + headers.index(label)\n",
    "        newrow[pos] = row[value_col]\n",
    "\n",
    "    # Append the last output row\n",
    "    output.append(newrow)\n",
    "    \n",
    "    return output\n",
    "    "
   ]
  },
  {
   "cell_type": "code",
   "execution_count": 29,
   "metadata": {},
   "outputs": [
    {
     "data": {
      "text/plain": [
       "[['Name', 'Week 1', 'Week 2', 'Week 3', 'Week 4'],\n",
       " ['Boal', 10, 11, 7, None],\n",
       " ['Westus', 12, None, 4, 9]]"
      ]
     },
     "execution_count": 29,
     "metadata": {},
     "output_type": "execute_result"
    }
   ],
   "source": [
    "unpivot(M)"
   ]
  },
  {
   "cell_type": "code",
   "execution_count": null,
   "metadata": {},
   "outputs": [],
   "source": []
  }
 ],
 "metadata": {
  "kernelspec": {
   "display_name": "Python 3",
   "language": "python",
   "name": "python3"
  },
  "language_info": {
   "codemirror_mode": {
    "name": "ipython",
    "version": 3
   },
   "file_extension": ".py",
   "mimetype": "text/x-python",
   "name": "python",
   "nbconvert_exporter": "python",
   "pygments_lexer": "ipython3",
   "version": "3.5.2"
  },
  "varInspector": {
   "cols": {
    "lenName": 16,
    "lenType": 16,
    "lenVar": 40
   },
   "kernels_config": {
    "python": {
     "delete_cmd_postfix": "",
     "delete_cmd_prefix": "del ",
     "library": "var_list.py",
     "varRefreshCmd": "print(var_dic_list())"
    },
    "r": {
     "delete_cmd_postfix": ") ",
     "delete_cmd_prefix": "rm(",
     "library": "var_list.r",
     "varRefreshCmd": "cat(var_dic_list()) "
    }
   },
   "types_to_exclude": [
    "module",
    "function",
    "builtin_function_or_method",
    "instance",
    "_Feature"
   ],
   "window_display": false
  }
 },
 "nbformat": 4,
 "nbformat_minor": 1
}
