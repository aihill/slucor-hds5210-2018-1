{
 "cells": [
  {
   "cell_type": "markdown",
   "metadata": {},
   "source": [
    "_HDS5210: Programming for Health Data Science_\n",
    "\n",
    "# Week 09 Assignment - JSON and XML\n",
    "\n",
    "In this week's assignment, we're going to create and parse some JSON and XML.  The first step will be to create, by hand, some JSON and XML that represents a real-world concept.  Then, you'll do some processing on that with Python."
   ]
  },
  {
   "cell_type": "markdown",
   "metadata": {},
   "source": [
    "1 - JSON for hospital information\n",
    "===\n",
    "\n",
    "Below is a JSON structure for information about some hospitals in the St. Louis area.  Look over this structure and then answer the questions that follow."
   ]
  },
  {
   "cell_type": "code",
   "execution_count": 1,
   "metadata": {},
   "outputs": [],
   "source": [
    "import json\n",
    "\n",
    "hospitals = \"\"\"\n",
    "{\n",
    "    \"cities\": [\n",
    "        {\n",
    "            \"name\": \"St. Louis\",\n",
    "            \"hospitals\": [\n",
    "                { \"name\": \"BJH\",       \"system\": \"BJC\", \"beds\": 1432 },\n",
    "                { \"name\": \"SLUH\",      \"system\": \"SSM\", \"beds\": 965  },\n",
    "                { \"name\": \"Christian\", \"system\": \"BJC\", \"beds\": 463 }\n",
    "            ]\n",
    "        },\n",
    "        {\n",
    "            \"name\": \"Creve Coeur\",\n",
    "            \"hospitals\": [\n",
    "                { \"name\": \"MOBap\",     \"system\": \"BJC\",   \"beds\": 1107 },\n",
    "                { \"name\": \"Mercy STL\", \"system\": \"Mercy\", \"beds\": 983  }\n",
    "            ]\n",
    "        }\n",
    "    ]\n",
    "}\n",
    "\n",
    "\"\"\"\n",
    "\n",
    "h = json.loads(hospitals)"
   ]
  },
  {
   "cell_type": "markdown",
   "metadata": {},
   "source": [
    "---\n",
    "\n",
    "**Q1: What is the Python data type of `h['cities']`?**\n",
    "\n",
    "**Q2: How many items are in the `h['cities'][0]['hospitals']` list?**\n",
    "\n",
    "**Q3: What is the value of `h['cities'][1]['hospitals'][0]['beds']`?**\n",
    "\n",
    "**Q4: What is the Python data type of `h`?**\n",
    "\n",
    "---\n"
   ]
  },
  {
   "cell_type": "markdown",
   "metadata": {},
   "source": [
    "# 2 - Your own JSON for hospital information\n",
    "\n",
    "Take the list of information below and create a different JSON structure, one that can be loaded directly by the `Pandas.DataFrame.from_dict()` function.  In order to do that, make sure that your JSON represents the set of records below using a list, and that each elements of that list is a dictionary that contains name/value pairs for each of the column names / values.\n",
    "\n",
    "```\n",
    "System    Hospital    City        Beds\n",
    "BJC       BJH         St. Louis   1432\n",
    "BJC       MOBap       Creve Coeur 1107\n",
    "SSM       SLUH        St. Louis   965\n",
    "Mercy     Mercy STL   Creve Coeur 983\n",
    "BJC       Christian   St. Louis   463\n",
    "```"
   ]
  },
  {
   "cell_type": "code",
   "execution_count": 2,
   "metadata": {},
   "outputs": [],
   "source": [
    "# Use this name and put your JSON version of the above table here...\n",
    "hospitals = \"\"\"\n",
    "\"\"\""
   ]
  },
  {
   "cell_type": "code",
   "execution_count": 3,
   "metadata": {},
   "outputs": [],
   "source": [
    "hospitals = \"\"\"\n",
    "[\n",
    "    { \"System\": \"BJC\", \"Hospital\": \"BJH\", \"City\": \"St. Louis\", \"Beds\": 1432 },\n",
    "    { \"System\": \"BJC\", \"Hospital\": \"MOBap\", \"City\": \"Creve Coeur\", \"Beds\": 1107 },\n",
    "    { \"System\": \"SSM\", \"Hospital\": \"SLUH\", \"City\": \"St. Louis\", \"Beds\": 965 },\n",
    "    { \"System\": \"Mercy\", \"Hospital\": \"Mercy STL\", \"City\": \"Creve Coeur\", \"Beds\": 983 },\n",
    "    { \"System\": \"BJC\", \"Hospital\": \"Christian\", \"City\": \"St. Louis\", \"Beds\": 463 }\n",
    "]\n",
    "\n",
    "\"\"\""
   ]
  },
  {
   "cell_type": "code",
   "execution_count": 4,
   "metadata": {},
   "outputs": [
    {
     "data": {
      "text/html": [
       "<div>\n",
       "<style scoped>\n",
       "    .dataframe tbody tr th:only-of-type {\n",
       "        vertical-align: middle;\n",
       "    }\n",
       "\n",
       "    .dataframe tbody tr th {\n",
       "        vertical-align: top;\n",
       "    }\n",
       "\n",
       "    .dataframe thead th {\n",
       "        text-align: right;\n",
       "    }\n",
       "</style>\n",
       "<table border=\"1\" class=\"dataframe\">\n",
       "  <thead>\n",
       "    <tr style=\"text-align: right;\">\n",
       "      <th></th>\n",
       "      <th>Beds</th>\n",
       "      <th>City</th>\n",
       "      <th>Hospital</th>\n",
       "      <th>System</th>\n",
       "    </tr>\n",
       "  </thead>\n",
       "  <tbody>\n",
       "    <tr>\n",
       "      <th>0</th>\n",
       "      <td>1432</td>\n",
       "      <td>St. Louis</td>\n",
       "      <td>BJH</td>\n",
       "      <td>BJC</td>\n",
       "    </tr>\n",
       "    <tr>\n",
       "      <th>1</th>\n",
       "      <td>1107</td>\n",
       "      <td>Creve Coeur</td>\n",
       "      <td>MOBap</td>\n",
       "      <td>BJC</td>\n",
       "    </tr>\n",
       "    <tr>\n",
       "      <th>2</th>\n",
       "      <td>965</td>\n",
       "      <td>St. Louis</td>\n",
       "      <td>SLUH</td>\n",
       "      <td>SSM</td>\n",
       "    </tr>\n",
       "    <tr>\n",
       "      <th>3</th>\n",
       "      <td>983</td>\n",
       "      <td>Creve Coeur</td>\n",
       "      <td>Mercy STL</td>\n",
       "      <td>Mercy</td>\n",
       "    </tr>\n",
       "    <tr>\n",
       "      <th>4</th>\n",
       "      <td>463</td>\n",
       "      <td>St. Louis</td>\n",
       "      <td>Christian</td>\n",
       "      <td>BJC</td>\n",
       "    </tr>\n",
       "  </tbody>\n",
       "</table>\n",
       "</div>"
      ],
      "text/plain": [
       "   Beds         City   Hospital System\n",
       "0  1432    St. Louis        BJH    BJC\n",
       "1  1107  Creve Coeur      MOBap    BJC\n",
       "2   965    St. Louis       SLUH    SSM\n",
       "3   983  Creve Coeur  Mercy STL  Mercy\n",
       "4   463    St. Louis  Christian    BJC"
      ]
     },
     "execution_count": 4,
     "metadata": {},
     "output_type": "execute_result"
    }
   ],
   "source": [
    "# The code below should work and print out a table with your data\n",
    "import pandas as pd\n",
    "import json\n",
    "\n",
    "data = json.loads(hospitals)\n",
    "pd.DataFrame.from_dict(data)"
   ]
  },
  {
   "cell_type": "markdown",
   "metadata": {},
   "source": [
    "# 3 - Total Beds per City\n",
    "\n",
    "Using your JSON structure as a starting point, compute the total number of beds per city and what percent of the total beds that represents.  Deliver the results as a JSON structure.\n",
    "\n",
    "```\n",
    "{ \n",
    "  'St. Louis': {\n",
    "    'Total Beds': 2860,\n",
    "    'Percent of Beds': 0.578\n",
    "  },\n",
    "  'Creve Coeur': {\n",
    "    'Total Beds': 2090,\n",
    "    'Percent of Beds': 0.422\n",
    "  }\n",
    "}\n",
    "```"
   ]
  },
  {
   "cell_type": "code",
   "execution_count": 5,
   "metadata": {},
   "outputs": [],
   "source": [
    "# Put your code here...\n"
   ]
  },
  {
   "cell_type": "code",
   "execution_count": 6,
   "metadata": {},
   "outputs": [
    {
     "data": {
      "text/plain": [
       "{'Creve Coeur': {'Percent of Beds': 0.422, 'Total Beds': 2090},\n",
       " 'St. Louis': {'Percent of Beds': 0.578, 'Total Beds': 2860}}"
      ]
     },
     "execution_count": 6,
     "metadata": {},
     "output_type": "execute_result"
    }
   ],
   "source": [
    "out = {}\n",
    "total = 0\n",
    "\n",
    "for h in data:\n",
    "    city = h['City']\n",
    "    beds = int(h['Beds'])\n",
    "    out.setdefault(city, {})\n",
    "    out[city].setdefault('Total Beds', 0)\n",
    "    out[city]['Total Beds'] += beds\n",
    "    total += beds\n",
    "\n",
    "for city, val in out.items():\n",
    "    beds = val['Total Beds']\n",
    "    val['Percent of Beds'] = round(beds / total,3)\n",
    "    \n",
    "out"
   ]
  },
  {
   "cell_type": "markdown",
   "metadata": {},
   "source": [
    "# 4 - Drug XML\n",
    "\n",
    "Consider the XML structure shown in the next cell for the data provided in the table below and answer the questions that follow.\n",
    "\n",
    "```\n",
    "Name     Dosage    Units   Cost   Count\n",
    "Asprin   100       mg      0.10   320\n",
    "Asprin   200       mg      0.15   211\n",
    "Digoxin  10        mL      1.22   19\n",
    "Digoxin  20        mL      2.01   27\n",
    "```"
   ]
  },
  {
   "cell_type": "code",
   "execution_count": 7,
   "metadata": {},
   "outputs": [],
   "source": [
    "drugs = \"\"\"<?xml version=\"1.0\"?>\n",
    "<drugs>\n",
    "  <drug name='Asprin'  dosage='100' units='mg' cost='0.10'>320</drug>\n",
    "  <drug name='Asprin'  dosage='200' units='mg' cost='0.15'>211</drug>\n",
    "  <drug name='Digoxin' dosage='10'  units='mL' cost='1.22'>19</drug>\n",
    "  <drug name='Digoxin' dosage='20'  units='mL' cost='2.01'>27</drug>\n",
    "</drugs>\n",
    "\"\"\""
   ]
  },
  {
   "cell_type": "markdown",
   "metadata": {},
   "source": [
    "---\n",
    "\n",
    "**Q1: How many children does the root element, &lt;drugs&gt;, have?**\n",
    "\n",
    "**Q2: What is `name` in the examples above? An *element*, *tag*, *attribute*, or *text*?**\n",
    "\n",
    "**Q3: What is the tag of the first child of the root element, &lt;drugs&gt;?**\n",
    "\n",
    "**Q4: What is the text value of the *Digoxin 20 mL* element?**\n",
    "\n",
    "---"
   ]
  },
  {
   "cell_type": "markdown",
   "metadata": {},
   "source": [
    "# 5 - Compute average cost per unit\n",
    "\n",
    "Read in your XML above and compute the total amount spend on each drug.  Store the output in dictionary:\n",
    "{\n",
    "  Asprin: 63.65,\n",
    "  Digoxin: 77.45\n",
    "}\n"
   ]
  },
  {
   "cell_type": "code",
   "execution_count": 8,
   "metadata": {},
   "outputs": [
    {
     "ename": "IndentationError",
     "evalue": "expected an indented block (<ipython-input-8-38ec2cc3185d>, line 17)",
     "output_type": "error",
     "traceback": [
      "\u001b[0;36m  File \u001b[0;32m\"<ipython-input-8-38ec2cc3185d>\"\u001b[0;36m, line \u001b[0;32m17\u001b[0m\n\u001b[0;31m    out\u001b[0m\n\u001b[0m      ^\u001b[0m\n\u001b[0;31mIndentationError\u001b[0m\u001b[0;31m:\u001b[0m expected an indented block\n"
     ]
    }
   ],
   "source": [
    "import xml.etree.ElementTree as xml\n",
    "root = xml.fromstring(drugs)\n",
    "out = {}\n",
    "\n",
    "for child in root:\n",
    "    \n",
    "    # Get the name, cost, and count from the child element\n",
    "\n",
    "    # If an entry in our output for this drug name doesn't exist,\n",
    "    # create a default value of 0\n",
    "    \n",
    "    # Add on the total amount spent (cost * count)\n",
    "\n",
    "    \n",
    "    \n",
    "# Display the output\n",
    "out"
   ]
  },
  {
   "cell_type": "code",
   "execution_count": 9,
   "metadata": {},
   "outputs": [
    {
     "data": {
      "text/plain": [
       "{'Asprin': 63.65, 'Digoxin': 77.44999999999999}"
      ]
     },
     "execution_count": 9,
     "metadata": {},
     "output_type": "execute_result"
    }
   ],
   "source": [
    "import xml.etree.ElementTree as xml\n",
    "root = xml.fromstring(drugs)\n",
    "out = {}\n",
    "\n",
    "for child in root:\n",
    "    name = child.attrib['name']\n",
    "    cost = float(child.attrib['cost'])\n",
    "    count = float(child.text)\n",
    "    \n",
    "    out.setdefault(name,0)\n",
    "    out[name] += cost * count\n",
    "\n",
    "out"
   ]
  },
  {
   "cell_type": "code",
   "execution_count": null,
   "metadata": {},
   "outputs": [],
   "source": []
  }
 ],
 "metadata": {
  "kernelspec": {
   "display_name": "Python 3",
   "language": "python",
   "name": "python3"
  },
  "language_info": {
   "codemirror_mode": {
    "name": "ipython",
    "version": 3
   },
   "file_extension": ".py",
   "mimetype": "text/x-python",
   "name": "python",
   "nbconvert_exporter": "python",
   "pygments_lexer": "ipython3",
   "version": "3.5.2"
  }
 },
 "nbformat": 4,
 "nbformat_minor": 1
}
