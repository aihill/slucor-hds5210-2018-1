{
 "cells": [
  {
   "cell_type": "markdown",
   "metadata": {},
   "source": [
    "To create to a hierarchical data structure using dictionaries.\n",
    "\n",
    "```\n",
    "{\n",
    "  'Boal': {\n",
    "    'Paul':      { 'Role': 'Dad', 'Age': 40 },\n",
    "    'Sarahlynn': { 'Role': 'Mom', 'Age': 43 },\n",
    "    'Ellie':     { 'Role': 'Child', 'Age': 14 },\n",
    "    'Ada' :      { 'Role': 'Child', 'Age': 11 },\n",
    "    'Teddy' :    { 'Role': 'Child', 'Age': 7 }\n",
    "  },\n",
    "  'Monroe': {\n",
    "    'Rob':       { 'Role': 'Dad', 'Age': 39 },\n",
    "    'Anny':      { 'Role': 'Mom', 'Age': 43 },\n",
    "    'Abby':      { 'Role': 'Child', 'Age': 11 }\n",
    "  }\n",
    "}\n",
    "```"
   ]
  },
  {
   "cell_type": "code",
   "execution_count": 1,
   "metadata": {},
   "outputs": [
    {
     "name": "stdout",
     "output_type": "stream",
     "text": [
      "Last,First,Role,Age\n",
      "Boal,Paul,Dad,40\n",
      "Boal,Sarahlynn,Mom,43\n",
      "Boal,Ellie,Child,14\n",
      "Boal,Ada,Child,11\n",
      "Boal,Teddy,Child,7\n",
      "Monroe,Anny,Mom,43\n",
      "Monroe,Rob,Dad,39\n",
      "Monroe,Abby,Child,11\n"
     ]
    }
   ],
   "source": [
    "%%bash\n",
    "\n",
    "cat /data/family.csv"
   ]
  },
  {
   "cell_type": "code",
   "execution_count": 13,
   "metadata": {},
   "outputs": [
    {
     "name": "stdout",
     "output_type": "stream",
     "text": [
      "{'Boal': {}}\n",
      "{'Boal': {'Paul': {'Role': 'Dad', 'Age': '40'}}}\n",
      "{'Boal': {'Paul': {'Role': 'Dad', 'Age': '40'}, 'Sarahlynn': {'Role': 'Mom', 'Age': '43'}}}\n",
      "{'Boal': {'Paul': {'Role': 'Dad', 'Age': '40'}, 'Sarahlynn': {'Role': 'Mom', 'Age': '43'}, 'Ellie': {'Role': 'Child', 'Age': '14'}}}\n",
      "{'Boal': {'Ada': {'Role': 'Child', 'Age': '11'}, 'Paul': {'Role': 'Dad', 'Age': '40'}, 'Sarahlynn': {'Role': 'Mom', 'Age': '43'}, 'Ellie': {'Role': 'Child', 'Age': '14'}}}\n",
      "{'Monroe': {}, 'Boal': {'Ada': {'Role': 'Child', 'Age': '11'}, 'Paul': {'Role': 'Dad', 'Age': '40'}, 'Sarahlynn': {'Role': 'Mom', 'Age': '43'}, 'Teddy': {'Role': 'Child', 'Age': '7'}, 'Ellie': {'Role': 'Child', 'Age': '14'}}}\n",
      "{'Monroe': {'Anny': {'Role': 'Mom', 'Age': '43'}}, 'Boal': {'Ada': {'Role': 'Child', 'Age': '11'}, 'Paul': {'Role': 'Dad', 'Age': '40'}, 'Sarahlynn': {'Role': 'Mom', 'Age': '43'}, 'Teddy': {'Role': 'Child', 'Age': '7'}, 'Ellie': {'Role': 'Child', 'Age': '14'}}}\n",
      "{'Monroe': {'Rob': {'Role': 'Dad', 'Age': '39'}, 'Anny': {'Role': 'Mom', 'Age': '43'}}, 'Boal': {'Ada': {'Role': 'Child', 'Age': '11'}, 'Paul': {'Role': 'Dad', 'Age': '40'}, 'Sarahlynn': {'Role': 'Mom', 'Age': '43'}, 'Teddy': {'Role': 'Child', 'Age': '7'}, 'Ellie': {'Role': 'Child', 'Age': '14'}}}\n"
     ]
    }
   ],
   "source": [
    "import csv\n",
    "\n",
    "output = {}\n",
    "\n",
    "with open('/data/family.csv') as file:\n",
    "    csv = csv.reader(file)\n",
    "    for row in csv:\n",
    "        #print(row)\n",
    "        \n",
    "        # we're reading one row from the csv file at time\n",
    "        last = row[0]\n",
    "        first = row[1]\n",
    "        role =  row[2]\n",
    "        age = row[3]\n",
    "\n",
    "        # create a default entry for this family (last name) if we don't have one already\n",
    "        output.setdefault(last, {})\n",
    "        #print(output[last])\n",
    "        #output[last] = { first: { 'Role': role, 'Age': age }}\n",
    "        print(output)\n",
    "        \n",
    "        # add an entry under this family for the individual person\n",
    "        output[last][first] = { 'Role': role, 'Age': age }\n",
    "        "
   ]
  },
  {
   "cell_type": "code",
   "execution_count": 9,
   "metadata": {},
   "outputs": [
    {
     "name": "stdout",
     "output_type": "stream",
     "text": [
      "{\n",
      "    \"Monroe\": {\n",
      "        \"Rob\": {\n",
      "            \"Role\": \"Dad\",\n",
      "            \"Age\": \"39\"\n",
      "        },\n",
      "        \"Anny\": {\n",
      "            \"Role\": \"Mom\",\n",
      "            \"Age\": \"43\"\n",
      "        },\n",
      "        \"Abby\": {\n",
      "            \"Role\": \"Child\",\n",
      "            \"Age\": \"11\"\n",
      "        }\n",
      "    },\n",
      "    \"Boal\": {\n",
      "        \"Ada\": {\n",
      "            \"Role\": \"Child\",\n",
      "            \"Age\": \"11\"\n",
      "        },\n",
      "        \"Paul\": {\n",
      "            \"Role\": \"Dad\",\n",
      "            \"Age\": \"40\"\n",
      "        },\n",
      "        \"Sarahlynn\": {\n",
      "            \"Role\": \"Mom\",\n",
      "            \"Age\": \"43\"\n",
      "        },\n",
      "        \"Teddy\": {\n",
      "            \"Role\": \"Child\",\n",
      "            \"Age\": \"7\"\n",
      "        },\n",
      "        \"Ellie\": {\n",
      "            \"Role\": \"Child\",\n",
      "            \"Age\": \"14\"\n",
      "        }\n",
      "    }\n",
      "}\n"
     ]
    }
   ],
   "source": [
    "import json\n",
    "print(json.dumps(output,indent=4))"
   ]
  },
  {
   "cell_type": "markdown",
   "metadata": {},
   "source": [
    "To create to a hierarchical data structure using dictionaries.\n",
    "\n",
    "```\n",
    "{\n",
    "  'Boal': {\n",
    "    'Paul':      { \n",
    "      'Rating': { 'Dad': 4, 'Husband': 2, 'Son': 5 }\n",
    "    },\n",
    "    'Sarahlynn': { \n",
    "      'Rating': { 'Mother': 6, 'Wife': 6, 'Daughter': 5 }\n",
    "    }\n",
    "  },\n",
    "  'Monroe': {\n",
    "    'Rob':       { \n",
    "      'Rating': { 'Dad': 4, 'Husband': 2, 'Son': 1 }\n",
    "    },\n",
    "    'Anny':      { \n",
    "      'Rating': { 'Mother': 4, 'Wife': 5, 'Daughter': 5 }\n",
    "    }\n",
    "  }\n",
    "}\n",
    "```\n",
    "\n",
    "CSV Example\n",
    "```\n",
    "Last,First,Role,Rating\n",
    "Boal,Paul,Dad,4\n",
    "Boal,Paul,Husband,2\n",
    "Boal,Paul,Son,5\n",
    "Boal,Sarahlynn,Mother,6\n",
    "Boal,Sarahlynn,Wife,6\n",
    "Boal,Sarahlynn,Daughter,5\n",
    "Monroe,Rob,Dad,4\n",
    "Monroe,Rob,Husband,2\n",
    "Monroe,Rob,Son,1\n",
    "Monroe,Anny,Mother,4\n",
    "Monroe,Anny,Wife,5\n",
    "Monroe,Anny,Daughter,5\n",
    "```"
   ]
  },
  {
   "cell_type": "code",
   "execution_count": 14,
   "metadata": {},
   "outputs": [],
   "source": [
    "import csv\n",
    "\n",
    "output = {}\n",
    "\n",
    "with open('/data/ratings.csv') as file:\n",
    "    csv = csv.reader(file)\n",
    "    for row in csv:\n",
    "        #print(row)\n",
    "        \n",
    "        # we're reading one row from the csv file at time\n",
    "        last = row[0]\n",
    "        first = row[1]\n",
    "        role =  row[2]\n",
    "        rating = row[3]\n",
    "\n",
    "        # create a default entry for this family (last name) if we don't have one already\n",
    "        output.setdefault(last, {})\n",
    "        \n",
    "        # create a default entry for this person (first name)\n",
    "        output[last].setdefault(first, { 'rating': {} } )\n",
    "        \n",
    "        # add an entry under this family for the individual person\n",
    "        output[last][first]['rating'][role] = rating\n",
    "        "
   ]
  },
  {
   "cell_type": "code",
   "execution_count": 15,
   "metadata": {},
   "outputs": [
    {
     "data": {
      "text/plain": [
       "{'Boal': {'Paul': {'rating': {'Dad': '4', 'Husband': '2', 'Son': '5'}},\n",
       "  'Sarahlynn': {'rating': {'Daughter': '5', 'Mother': '6', 'Wife': '6'}}},\n",
       " 'Monroe': {'Anny': {'rating': {'Daughter': '5', 'Mother': '4', 'Wife': '5'}},\n",
       "  'Rob': {'rating': {'Dad': '4', 'Husband': '2', 'Son': '1'}}}}"
      ]
     },
     "execution_count": 15,
     "metadata": {},
     "output_type": "execute_result"
    }
   ],
   "source": [
    "output"
   ]
  },
  {
   "cell_type": "code",
   "execution_count": null,
   "metadata": {},
   "outputs": [],
   "source": []
  }
 ],
 "metadata": {
  "kernelspec": {
   "display_name": "Python 3",
   "language": "python",
   "name": "python3"
  },
  "language_info": {
   "codemirror_mode": {
    "name": "ipython",
    "version": 3
   },
   "file_extension": ".py",
   "mimetype": "text/x-python",
   "name": "python",
   "nbconvert_exporter": "python",
   "pygments_lexer": "ipython3",
   "version": "3.5.2"
  },
  "varInspector": {
   "cols": {
    "lenName": 16,
    "lenType": 16,
    "lenVar": 40
   },
   "kernels_config": {
    "python": {
     "delete_cmd_postfix": "",
     "delete_cmd_prefix": "del ",
     "library": "var_list.py",
     "varRefreshCmd": "print(var_dic_list())"
    },
    "r": {
     "delete_cmd_postfix": ") ",
     "delete_cmd_prefix": "rm(",
     "library": "var_list.r",
     "varRefreshCmd": "cat(var_dic_list()) "
    }
   },
   "types_to_exclude": [
    "module",
    "function",
    "builtin_function_or_method",
    "instance",
    "_Feature"
   ],
   "window_display": false
  }
 },
 "nbformat": 4,
 "nbformat_minor": 2
}
