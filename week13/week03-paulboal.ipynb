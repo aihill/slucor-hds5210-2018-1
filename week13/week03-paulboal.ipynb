{
 "cells": [
  {
   "cell_type": "markdown",
   "metadata": {},
   "source": [
    "_SLUCOR HDS5210 - Programming for Health Data Science - 2016 Fall_\n",
    "\n",
    "Week 3 (Sep 7) Exercises\n",
    "===\n",
    "\n",
    "Before starting, be sure that you have completed the GitHub setup from week 2 and have your hds5210-week02 repository setup from the homework last assignments.  You'll continue to use the same Git project / repository to submit your assignments."
   ]
  },
  {
   "cell_type": "markdown",
   "metadata": {},
   "source": [
    "#1 - Creating Functions\n",
    "---\n",
    "\n",
    "Write a function that will compute the sum of three numbers. Then use that function to calculate the sum of the eight numbers below:\n",
    "\n",
    "```\n",
    "4, 9, 12, 8, 16, 19, 11, 10\n",
    "```"
   ]
  },
  {
   "cell_type": "code",
   "execution_count": 1,
   "metadata": {
    "collapsed": true
   },
   "outputs": [],
   "source": [
    "def sum3(a,b,c):\n",
    "    \"\"\" (float,float,float) -> float\n",
    "    Sums up just three numbers.\n",
    "    \n",
    "    >>> sum3(1,2,3)\n",
    "    6\n",
    "    \"\"\"\n",
    "    \n",
    "    return a + b + c\n"
   ]
  },
  {
   "cell_type": "code",
   "execution_count": 2,
   "metadata": {
    "collapsed": false
   },
   "outputs": [
    {
     "data": {
      "text/plain": [
       "89"
      ]
     },
     "execution_count": 2,
     "metadata": {},
     "output_type": "execute_result"
    }
   ],
   "source": [
    "sum3( sum3(4,9,12), sum3(8,16,19), sum3(11,10,0) )"
   ]
  },
  {
   "cell_type": "markdown",
   "metadata": {},
   "source": [
    "The purpose here was to demonstrate how you could reuse your own function while you're calling your own function.\n",
    "\n",
    "---\n",
    "\n",
    "---\n"
   ]
  },
  {
   "cell_type": "markdown",
   "metadata": {},
   "source": [
    "#2 - Understanding Functions\n",
    "---\n",
    "\n",
    "Try to reason through this set of instruction and determine what the output will be.  Check your understanding by running the code in Jupyter.  Then explain why the output is what it is.\n",
    "\n",
    "```\n",
    "temp = 103\n",
    "\n",
    "def calculate_target (temp):\n",
    "    temp -= 4\n",
    "    return temp\n",
    "\n",
    "calculate_target (temp)\n",
    "\n",
    "print(\"The current value of temp is \" + str(temp))\n",
    "```\n"
   ]
  },
  {
   "cell_type": "markdown",
   "metadata": {},
   "source": [
    "When we define `temp = 103` we create a variable named `temp`.  That `temp` and the `temp` variable that is used as the variable name for the parameter of our function `calculate_target` are not the same.  The `temp` inside the function definition is called a \"local variable\" and it is different than the first `temp` we created.  It hides the original `temp`.  Our function takes whatever value it is given and subtracts 4 and then returns that value, however, we never do anything with the output from `calculate_target (temp)`.  You can tell that because there's no variable to the left of the function call.\n",
    "\n",
    "If we had wanted to actually change our original variable `temp`, we could have said: `temp = calculate_target (temp)`.\n",
    "\n",
    "In that case, it would have executed this way:\n",
    "* `temp = 103`\n",
    "* `temp = calculate_target(temp)`\n",
    " * `temp = calculate_target(103)`\n",
    " * `temp = 94`\n",
    " \n",
    "---\n",
    " \n",
    "---"
   ]
  },
  {
   "cell_type": "markdown",
   "metadata": {},
   "source": [
    "#3 - Parsing Dosage Amounts and Units\n",
    "---\n",
    "\n",
    "Create a function that will take as input an infusion dosage value and unit in the format `# volume/time` such as `45 mg/hr` or `0.2 L/hr`, and return just the numeric part of the dosage.  It should return the numeric part as a floating point decimal number so that calculations can easily be done with the number.\n",
    "\n",
    "Demonstrate that your function works correctly using each of these tests:\n",
    "```\n",
    "1.0 L/hr\n",
    "10 mg/hr\n",
    "0.75 g/day\n",
    "```"
   ]
  },
  {
   "cell_type": "code",
   "execution_count": 3,
   "metadata": {
    "collapsed": true
   },
   "outputs": [],
   "source": [
    "def get_amount(var):\n",
    "    space_pos = var.find(\" \")\n",
    "    return float(var[0:space_pos])"
   ]
  },
  {
   "cell_type": "code",
   "execution_count": 4,
   "metadata": {
    "collapsed": false
   },
   "outputs": [
    {
     "data": {
      "text/plain": [
       "1.0"
      ]
     },
     "execution_count": 4,
     "metadata": {},
     "output_type": "execute_result"
    }
   ],
   "source": [
    "get_amount('1.0 L/hr')"
   ]
  },
  {
   "cell_type": "code",
   "execution_count": 5,
   "metadata": {
    "collapsed": false
   },
   "outputs": [
    {
     "data": {
      "text/plain": [
       "10.0"
      ]
     },
     "execution_count": 5,
     "metadata": {},
     "output_type": "execute_result"
    }
   ],
   "source": [
    "get_amount('10 mg/hr')"
   ]
  },
  {
   "cell_type": "code",
   "execution_count": 6,
   "metadata": {
    "collapsed": false
   },
   "outputs": [
    {
     "data": {
      "text/plain": [
       "0.75"
      ]
     },
     "execution_count": 6,
     "metadata": {},
     "output_type": "execute_result"
    }
   ],
   "source": [
    "get_amount('0.75 g/day')"
   ]
  },
  {
   "cell_type": "markdown",
   "metadata": {},
   "source": [
    "---\n",
    "\n",
    "---"
   ]
  },
  {
   "cell_type": "markdown",
   "metadata": {},
   "source": [
    "#4 - Parsing and Rewriting a String\n",
    "---\n",
    "\n",
    "Create another function or collection of functions that will take a string in the format `drug # volumne/time` such as `Asprin 20 mg/hr`, and return a string in the format `In one hr, the patient will have received 20 mg of Asprin.  Doubling the dosage to 40 mg would be dangerous!`. Be sure that you reuse the other functions you've created in this assignment if possible.\n",
    "\n",
    "Demonstrate that your function works correctly using these tests:\n",
    "\n",
    "```\n",
    "Asprin 20 mg/hr\n",
    "Amoxicillin 300 mg/day\n",
    "```"
   ]
  },
  {
   "cell_type": "code",
   "execution_count": 31,
   "metadata": {
    "collapsed": false
   },
   "outputs": [],
   "source": [
    "def warning(var):\n",
    "    first_space = var.find(\" \")\n",
    "    drug = var[0:first_space]\n",
    "    \n",
    "    next_space = var.find(\" \",first_space+2)\n",
    "    amount = var[first_space+1:next_space]\n",
    "    \n",
    "    slash = var.find(\"/\")\n",
    "    mass_unit = var[next_space+1:slash]\n",
    "    time_unit = var[slash+1:]\n",
    "    \n",
    "    a = \"In one {:s}, the patient will have received {:.2f} {:s} of {:s}.\".format(time_unit,float(amount),mass_unit,drug)\n",
    "    b = \"Doubling the dosage to {:.2f} {:s} would be dangerous!\".format(float(amount)*2,mass_unit)\n",
    "    return a + \" \" + b"
   ]
  },
  {
   "cell_type": "code",
   "execution_count": 30,
   "metadata": {
    "collapsed": false
   },
   "outputs": [
    {
     "data": {
      "text/plain": [
       "'In one hr, the patient will have received 20.00 mg of Aspirin. Doubling the dosage to 20.00 mg would be dangerous!'"
      ]
     },
     "execution_count": 30,
     "metadata": {},
     "output_type": "execute_result"
    }
   ],
   "source": [
    "warning('Aspirin 20 mg/hr')"
   ]
  },
  {
   "cell_type": "code",
   "execution_count": 32,
   "metadata": {
    "collapsed": false
   },
   "outputs": [
    {
     "data": {
      "text/plain": [
       "'In one day, the patient will have received 300.00 mg of Amoxicillin. Doubling the dosage to 600.00 mg would be dangerous!'"
      ]
     },
     "execution_count": 32,
     "metadata": {},
     "output_type": "execute_result"
    }
   ],
   "source": [
    "warning('Amoxicillin 300 mg/day')"
   ]
  },
  {
   "cell_type": "markdown",
   "metadata": {},
   "source": [
    "---\n",
    "\n",
    "---"
   ]
  },
  {
   "cell_type": "markdown",
   "metadata": {},
   "source": [
    "\n",
    "## If you need any help remembing how to commit your work, look here:\n",
    "\n",
    "```\n",
    "%%bash\n",
    "cd ~/notebooks/hds5210-week02/\n",
    "git add week03-paulboal.ipynb\n",
    "git commit -a -m \"Adding homework for week 3\"\n",
    "git push\n",
    "```"
   ]
  }
 ],
 "metadata": {
  "kernelspec": {
   "display_name": "Python 3",
   "language": "python",
   "name": "python3"
  },
  "language_info": {
   "codemirror_mode": {
    "name": "ipython",
    "version": 3
   },
   "file_extension": ".py",
   "mimetype": "text/x-python",
   "name": "python",
   "nbconvert_exporter": "python",
   "pygments_lexer": "ipython3",
   "version": "3.4.3"
  }
 },
 "nbformat": 4,
 "nbformat_minor": 0
}
