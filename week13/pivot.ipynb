{
 "cells": [
  {
   "cell_type": "code",
   "execution_count": null,
   "metadata": {
    "collapsed": true
   },
   "outputs": [],
   "source": [
    "def pivot_columns(L ,pivot_columns):\n",
    "    \"\"\" (list, list) -> list\n",
    "    This function takes in a rectangular list of lists (a 2-d array) and a list of column numbers.\n",
    "    The function assumes the first row in the list is a header row.\n",
    "    The function will simply copy down all the data infront of the first pivot column.\n",
    "    The function will create multiple rows for each of the input rows in the list, \n",
    "      one for each of the pivot columns.  In each of those rows will be the all of the columns\n",
    "      before the first pivot column, followed by the header name for that pivot column,\n",
    "      followed by the value in that pivot column.\n",
    "    The output should also have a header row that contains the same header as the input\n",
    "      for everything before the pivot columns, followed by 'Column' and 'Value'\n",
    "    \n",
    "    Input:\n",
    "    [['Last','First','2015Q1','2015Q2','2015Q3','2015Q4'],\n",
    "     ['Boal','Paul',10,9,10,8],\n",
    "     ['Westhus','Eric',9,10,10,9]]\n",
    "     \n",
    "    Function Call:\n",
    "    output = pivot_columns(input, list(range(2,5)))\n",
    "     \n",
    "    Output:\n",
    "    [['Last','First','Column','Value'],\n",
    "     ['Boal','Paul','2015Q1',10],\n",
    "     ['Boal','Paul','2015Q2',9],\n",
    "     ['Boal','Paul','2015Q3',10],\n",
    "     ['Boal','Paul','2015Q4',8],\n",
    "     ['Westhus','Eric','2015Q1',9],\n",
    "     ['Westhus','Eric','2015Q2',10],\n",
    "     ['Westhus','Eric','2015Q3',10],\n",
    "     ['Westhus','Eric','2015Q4',9]]\n",
    "    \"\"\"\n",
    "    output = []\n",
    "\n",
    "    # keep: The end of the columns that we're going to keep in place\n",
    "    keep = min(pivot_columns)\n",
    "    min_pivot = min(pivot_columns)\n",
    "    max_pivot = max(pivot_columns) + 1\n",
    "    #print(L)\n",
    "    #print(\"(keep, min, max) = ({:d},{:d},{:d})\".format(keep,min_pivot,max_pivot))\n",
    "    \n",
    "    # Let's format the header first\n",
    "    header = L[0]\n",
    "    headout = header[:keep]\n",
    "    headout.append('Column')\n",
    "    headout.append('Value')\n",
    "    output.append(headout)\n",
    "    #print(\"Output after header: \" + str(output))\n",
    "    \n",
    "    # Now we'll loop through every row and build the output\n",
    "    for row in L[1:]:\n",
    "        #print(\"Processing: \" + str(row))\n",
    "        for c in range(min_pivot,max_pivot+1,1):\n",
    "            #print(\"Processing column: \" + str(c))\n",
    "            rowout = row[:keep]\n",
    "            rowout.append(header[c])\n",
    "            rowout.append(row[c])\n",
    "            output.append(rowout)\n",
    "    \n",
    "    return output\n",
    "    "
   ]
  }
 ],
 "metadata": {
  "kernelspec": {
   "display_name": "Python 3",
   "language": "python",
   "name": "python3"
  },
  "language_info": {
   "codemirror_mode": {
    "name": "ipython",
    "version": 3
   },
   "file_extension": ".py",
   "mimetype": "text/x-python",
   "name": "python",
   "nbconvert_exporter": "python",
   "pygments_lexer": "ipython3",
   "version": "3.4.3"
  }
 },
 "nbformat": 4,
 "nbformat_minor": 0
}
