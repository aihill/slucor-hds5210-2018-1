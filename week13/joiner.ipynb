{
 "cells": [
  {
   "cell_type": "code",
   "execution_count": null,
   "metadata": {
    "collapsed": true
   },
   "outputs": [],
   "source": [
    "def join_lists(left, right, left_key, right_key, left_output, right_output):\n",
    "    \"\"\" (list, list, list, list, list, list) -> list\n",
    "    Use the column positions from left_key and right_key to identify which column to match on.\n",
    "    See the midterm.ipynb for details on how this has to work.  I'm not repeating it here.\n",
    "    I would recommend that you test it with some small datasets like what I showed in the explanation.\n",
    "    \"\"\"\n",
    "    \n",
    "    output = []\n",
    "    \n",
    "    l_header = left[0]\n",
    "    r_header = right[0]\n",
    "    header = [l_header[i] for i in left_output] + [r_header[i] for i in right_output]\n",
    "    #print(\"Adding {:s} as header\".format(str(header)))\n",
    "    output.append(header)\n",
    "\n",
    "    for l_row in left[1:]:\n",
    "        l_key = [l_row[i].upper() for i in left_key]\n",
    "\n",
    "        for r_row in right[1:]:\n",
    "            r_key = [r_row[i].upper() for i in right_key]\n",
    "            \n",
    "            #print(\"Comparing {:s} to {:s}\".format(str(l_key),str(r_key)))\n",
    "            if l_key == r_key:\n",
    "                out = [l_row[i] for i in left_output] + [r_row[i] for i in right_output]\n",
    "                output.append(out)\n",
    "    \n",
    "    return output\n",
    "    "
   ]
  }
 ],
 "metadata": {
  "kernelspec": {
   "display_name": "Python 3",
   "language": "python",
   "name": "python3"
  },
  "language_info": {
   "codemirror_mode": {
    "name": "ipython",
    "version": 3
   },
   "file_extension": ".py",
   "mimetype": "text/x-python",
   "name": "python",
   "nbconvert_exporter": "python",
   "pygments_lexer": "ipython3",
   "version": "3.4.3"
  }
 },
 "nbformat": 4,
 "nbformat_minor": 0
}
