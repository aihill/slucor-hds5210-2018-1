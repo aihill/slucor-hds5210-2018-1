{
 "cells": [
  {
   "cell_type": "markdown",
   "metadata": {},
   "source": [
    "_SLUCOR HDS5210 - Programming for Health Data Science - 2016 Fall_\n",
    "\n",
    "## Week 3 (Sep 7) Exercises\n",
    "\n",
    "Before starting, be sure that you have completed the GitHub setup from week 2 and have your hds5210-week02 repository setup from the homework last assignments. You'll continue to use the same Git project / repository to submit your assignments.\n",
    "\n",
    "Note that the lecture notes for this week can be found here:\n",
    "https://drive.google.com/open?id=1lhaFvEcPYLa8xxIFEOrowCwtE3I0UPMPYuxIpbzgrOI\n"
   ]
  },
  {
   "cell_type": "markdown",
   "metadata": {},
   "source": [
    "---\n",
    "# 1 - NAND (5 pts)\n",
    "Inside of computer chips, it's often easier to do a logical operation called NAND (not and).  Write a function that takes two boolean parameters and returns the NAND of those values.  Here is the k-map for NAND:\n",
    "\n",
    "```\n",
    "NAND: \n",
    "\n",
    "        TRUE   FALSE\n",
    "TRUE    False  True\n",
    "FALSE   True   True\n",
    "```\n",
    "\n",
    "Include the four tests from the k-map in your docstring, and show the output of testing your function for correct operation using testmod() as demonstrated during class."
   ]
  },
  {
   "cell_type": "code",
   "execution_count": 1,
   "metadata": {
    "collapsed": true
   },
   "outputs": [],
   "source": [
    "def nand(a,b):\n",
    "    \"\"\" (bool, bool) -> bool\n",
    "    Returns the result of not (a and b).  \n",
    "    That is, nand will return false if both a and b are true, otherwise it will return false.\n",
    "    \n",
    "    >>> nand(True, True)\n",
    "    False\n",
    "    \n",
    "    >>> nand(True, False)\n",
    "    True\n",
    "    \n",
    "    >>> nand(False, True)\n",
    "    True\n",
    "    \n",
    "    >>> nand(False, False)\n",
    "    True\n",
    "    \"\"\"\n",
    "    \n",
    "    return not (a and b)"
   ]
  },
  {
   "cell_type": "code",
   "execution_count": 2,
   "metadata": {
    "collapsed": false
   },
   "outputs": [
    {
     "name": "stdout",
     "output_type": "stream",
     "text": [
      "Trying:\n",
      "    nand(True, True)\n",
      "Expecting:\n",
      "    False\n",
      "ok\n",
      "Trying:\n",
      "    nand(True, False)\n",
      "Expecting:\n",
      "    True\n",
      "ok\n",
      "Trying:\n",
      "    nand(False, True)\n",
      "Expecting:\n",
      "    True\n",
      "ok\n",
      "Trying:\n",
      "    nand(False, False)\n",
      "Expecting:\n",
      "    True\n",
      "ok\n",
      "1 items had no tests:\n",
      "    __main__\n",
      "1 items passed all tests:\n",
      "   4 tests in __main__.nand\n",
      "4 tests in 2 items.\n",
      "4 passed and 0 failed.\n",
      "Test passed.\n"
     ]
    },
    {
     "data": {
      "text/plain": [
       "TestResults(failed=0, attempted=4)"
      ]
     },
     "execution_count": 2,
     "metadata": {},
     "output_type": "execute_result"
    }
   ],
   "source": [
    "import doctest\n",
    "doctest.testmod(verbose=True)"
   ]
  },
  {
   "cell_type": "markdown",
   "metadata": {},
   "source": [
    "# 2 - LACE Score (10 pts)\n",
    "There is a simple readmission index called the LACE Score: https://www.hindawi.com/journals/bmri/2015/169870/tab1/\n",
    "\n",
    "Use this documentation to create a function that can compute LACE scores based on the 4 input parameters.  Below is the function signature and documentation that you start with. Include 3 test cases and demonstrate them using testmod()."
   ]
  },
  {
   "cell_type": "code",
   "execution_count": null,
   "metadata": {
    "collapsed": true
   },
   "outputs": [],
   "source": [
    "def LACE( length_of_stay, acute_flag, charlson, ed_visits):\n",
    "    \"\"\"(int, bool, int, int) -> int\n",
    "    This function uses the logic from https://www.hindawi.com/journals/bmri/2015/169870/tab1/\n",
    "    to compute the LACE score for this patient.\n",
    "    \n",
    "    >>> LACE(4, False, 1, 0)\n",
    "    5\n",
    "    \n",
    "    >>> LACE(4, True, 4, 7)\n",
    "    16\n",
    "    \n",
    "    \"\"\""
   ]
  },
  {
   "cell_type": "code",
   "execution_count": 8,
   "metadata": {
    "collapsed": false
   },
   "outputs": [],
   "source": [
    "def los_score( days ):\n",
    "    \"\"\" (int) -> int\n",
    "    Returns length of stay per LACE scoring.\n",
    "    \"\"\"\n",
    "    if days < 1:\n",
    "        return 0\n",
    "    elif days >= 4 and days <=6:\n",
    "        return 4\n",
    "    elif days >=7 and days <=13:\n",
    "        return 5\n",
    "    elif days >= 14:\n",
    "        return 7\n",
    "    else:\n",
    "        return days\n",
    "\n",
    "def acute_score( flag ):\n",
    "    \"\"\" (bool) -> int\n",
    "    Returns acute admission score per LACE scoring.\n",
    "    \"\"\"\n",
    "    if flag:\n",
    "        return 3\n",
    "    else:\n",
    "        return 0\n",
    "\n",
    "def charlson_score( value ):\n",
    "    \"\"\" (int) -> int\n",
    "    Returns Charlson comorbidity index score per LACE scoring.\n",
    "    \"\"\"\n",
    "    if value >= 4:\n",
    "        return 5\n",
    "    else:\n",
    "        return value\n",
    "\n",
    "def ed_score( visits ):\n",
    "    \"\"\" (int) -> int\n",
    "    Returns the ED visits score per LACE scoring.\n",
    "    \"\"\"\n",
    "    if visits >= 4:\n",
    "        return 4\n",
    "    else:\n",
    "        return visits\n",
    "    \n",
    "\n",
    "def LACE( length_of_stay, acute_flag, charlson, ed_visits):\n",
    "    \"\"\"(int, bool, int, int) -> int\n",
    "    This function uses the logic from https://www.hindawi.com/journals/bmri/2015/169870/tab1/\n",
    "    to compute the LACE score for this patient.\n",
    "    \n",
    "    >>> LACE(4, False, 1, 0)\n",
    "    5\n",
    "    \n",
    "    >>> LACE(4, True, 4, 7)\n",
    "    16\n",
    "    \"\"\"\n",
    "    return los_score(length_of_stay) + acute_score(acute_flag) + charlson_score(charlson) + ed_score(ed_visits)\n"
   ]
  },
  {
   "cell_type": "code",
   "execution_count": 9,
   "metadata": {
    "collapsed": false
   },
   "outputs": [
    {
     "data": {
      "text/plain": [
       "TestResults(failed=0, attempted=6)"
      ]
     },
     "execution_count": 9,
     "metadata": {},
     "output_type": "execute_result"
    }
   ],
   "source": [
    "import doctest\n",
    "doctest.testmod()"
   ]
  },
  {
   "cell_type": "markdown",
   "metadata": {},
   "source": [
    "# 3 - Care Management Criteria (5 pts)\n",
    "Care managers use LACE as part of the criteria for assigning a care coodinator to a patient who has been recently discharged. If the score is above 10, then a care coordinator will be assigned. The other criteria they use is if the patient has been discharged with a diagnosis of CHF or COPD.  If the diagnosis field has CHF or COPD in it, then the patient will have a care coordinator assigned.\n",
    "\n",
    "For this exercise, write another function that takes the same inputs as LACE() plus another diagnosis parameter, and return True or False depending on if the paient needs a care coordinator."
   ]
  },
  {
   "cell_type": "code",
   "execution_count": null,
   "metadata": {
    "collapsed": true
   },
   "outputs": [],
   "source": [
    "def assign_care_coordinator(diagnosis_cd, ed_visit_count, length_of_stay, acute_flag, charlson):\n",
    "    ..."
   ]
  },
  {
   "cell_type": "code",
   "execution_count": 15,
   "metadata": {
    "collapsed": true
   },
   "outputs": [],
   "source": [
    "def assign_care_coordinator(diagnosis_cd, ed_visit_count, length_of_stay, acute_flag, charlson):\n",
    "    \"\"\" (str, int, int, bool, int) -> bool\n",
    "    Returns True if either the patient has a diagnosis of CHF or COPD, or the the\n",
    "    patient has a LACE score above 10.\n",
    "    \n",
    "    >>> assign_care_coordinator('None', 0, 4, False, 1)\n",
    "    False\n",
    "\n",
    "    >>> assign_care_coordinator('CHF', 0, 4, False, 1)\n",
    "    True\n",
    "\n",
    "    >>> assign_care_coordinator('COPD', 0, 4, False, 1)\n",
    "    True\n",
    "\n",
    "    >>> assign_care_coordinator('None', 7, 4, True, 4)\n",
    "    True\n",
    "    \n",
    "    >>> assign_care_coordinator('CHF', 7, 4, True, 4)\n",
    "    True\n",
    "    \"\"\"\n",
    "    \n",
    "    if diagnosis_cd == 'CHF' or diagnosis_cd == 'COPD':\n",
    "        return True\n",
    "    elif LACE(length_of_stay, acute_flag, charlson, ed_visit_count) > 10:\n",
    "        return True\n",
    "    else:\n",
    "        return False"
   ]
  },
  {
   "cell_type": "code",
   "execution_count": 17,
   "metadata": {
    "collapsed": false
   },
   "outputs": [
    {
     "data": {
      "text/plain": [
       "TestResults(failed=0, attempted=11)"
      ]
     },
     "execution_count": 17,
     "metadata": {},
     "output_type": "execute_result"
    }
   ],
   "source": [
    "import doctest\n",
    "doctest.testmod()"
   ]
  }
 ],
 "metadata": {
  "kernelspec": {
   "display_name": "Python 3",
   "language": "python",
   "name": "python3"
  },
  "language_info": {
   "codemirror_mode": {
    "name": "ipython",
    "version": 3
   },
   "file_extension": ".py",
   "mimetype": "text/x-python",
   "name": "python",
   "nbconvert_exporter": "python",
   "pygments_lexer": "ipython3",
   "version": "3.4.3"
  }
 },
 "nbformat": 4,
 "nbformat_minor": 0
}
