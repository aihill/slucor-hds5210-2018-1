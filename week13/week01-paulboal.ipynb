{
 "cells": [
  {
   "cell_type": "markdown",
   "metadata": {},
   "source": [
    "#2 Explain\n",
    "---\n",
    "In the first cell of your notebook, use a comment block to explain how Python evaluates the following expression when x has the value of 3.\n",
    "\n",
    "x += x - x"
   ]
  },
  {
   "cell_type": "markdown",
   "metadata": {},
   "source": [
    "Python first evaluates the right hand side of the augmented assignment operator.\n",
    "\n",
    "`3 - 3` evaluates to `0`\n",
    "\n",
    "Then Python updates the value of x by addinging `0` to its current value."
   ]
  },
  {
   "cell_type": "markdown",
   "metadata": {},
   "source": [
    "#3 Average Heartrate\n",
    "---\n",
    "In the next cell of your homework notebook, compute the floating point average of the following numbers, using basic +, -, *, / arithmetic, assign that to a variable named average_heartrate. Print that result to the notebook's output. Don't use lists or the average function, yet.\n",
    "\n",
    "98, 87, 92, 90, 90, 91\n",
    "\n"
   ]
  },
  {
   "cell_type": "code",
   "execution_count": 7,
   "metadata": {
    "collapsed": false
   },
   "outputs": [
    {
     "data": {
      "text/plain": [
       "91.33333333333333"
      ]
     },
     "execution_count": 7,
     "metadata": {},
     "output_type": "execute_result"
    }
   ],
   "source": [
    "avg = (98 + 87 + 92 + 90 + 90 + 91) / 6\n",
    "avg"
   ]
  },
  {
   "cell_type": "markdown",
   "metadata": {},
   "source": [
    "#4 BMI\n",
    "---\n",
    "Create variables with the corresponding values from the table below, and using the variables to compute the corresponding body mass index (BMI). You can use any meaningful variable names you like. When you compute the BMI, assign a variable to it, and then print the result to the notebook's output.\n",
    "\n",
    "* Weight in kilograms is 90.7\n",
    "* Height in centimeters is 182\n",
    "\n",
    "Note that a simple BMI calculation is weight in kilograms divided by the square of height in meters."
   ]
  },
  {
   "cell_type": "code",
   "execution_count": 1,
   "metadata": {
    "collapsed": false
   },
   "outputs": [
    {
     "data": {
      "text/plain": [
       "27.38195870064002"
      ]
     },
     "execution_count": 1,
     "metadata": {},
     "output_type": "execute_result"
    }
   ],
   "source": [
    "weight_kg = 90.7\n",
    "height_cm = 182\n",
    "height_m = height_cm / 100\n",
    "BMI = weight_kg / ( height_m ** 2 )\n",
    "BMI\n"
   ]
  },
  {
   "cell_type": "markdown",
   "metadata": {},
   "source": [
    "#5 Weight Loss\n",
    "---\n",
    "Assuming that someone doesn't change height over time, what is the approximate number of days it will take for someone to get from the BMI from #4 above to a supposed healthy BMI of 24.9, while losing weight at a rate of 0.75 kg per week.\n",
    "\n",
    "As needed, use variables and multiple calculations to make your thought process visible in the code, rather than using the notebook simply as a calculator.  Make sure your final answer appears in the notebook's output.\n"
   ]
  },
  {
   "cell_type": "code",
   "execution_count": 2,
   "metadata": {
    "collapsed": false
   },
   "outputs": [
    {
     "data": {
      "text/plain": [
       "82.47876"
      ]
     },
     "execution_count": 2,
     "metadata": {},
     "output_type": "execute_result"
    }
   ],
   "source": [
    "target_bmi = 24.9\n",
    "target_kg = target_bmi * ( height_m ** 2 )\n",
    "target_kg"
   ]
  },
  {
   "cell_type": "code",
   "execution_count": 3,
   "metadata": {
    "collapsed": false
   },
   "outputs": [
    {
     "data": {
      "text/plain": [
       "10.961653333333345"
      ]
     },
     "execution_count": 3,
     "metadata": {},
     "output_type": "execute_result"
    }
   ],
   "source": [
    "kg_per_wk = 0.75\n",
    "loss_kg = weight_kg - target_kg\n",
    "wk = loss_kg / kg_per_wk\n",
    "wk"
   ]
  },
  {
   "cell_type": "code",
   "execution_count": 4,
   "metadata": {
    "collapsed": false
   },
   "outputs": [
    {
     "data": {
      "text/plain": [
       "76.73157333333342"
      ]
     },
     "execution_count": 4,
     "metadata": {},
     "output_type": "execute_result"
    }
   ],
   "source": [
    "days = wk * 7\n",
    "days"
   ]
  },
  {
   "cell_type": "code",
   "execution_count": 5,
   "metadata": {
    "collapsed": false
   },
   "outputs": [
    {
     "data": {
      "text/plain": [
       "77"
      ]
     },
     "execution_count": 5,
     "metadata": {},
     "output_type": "execute_result"
    }
   ],
   "source": [
    "# ALTERNATIVE APPROACH WITH LOOP\n",
    "current_bmi = BMI\n",
    "current_kg = weight_kg\n",
    "kg_per_day = kg_per_wk / 7\n",
    "\n",
    "day = 0\n",
    "while (current_bmi > target_bmi):\n",
    "    day += 1\n",
    "    current_kg -= kg_per_day\n",
    "    current_bmi = current_kg / ( height_m ** 2 )\n",
    "\n",
    "day"
   ]
  }
 ],
 "metadata": {
  "kernelspec": {
   "display_name": "Python 3",
   "language": "python",
   "name": "python3"
  },
  "language_info": {
   "codemirror_mode": {
    "name": "ipython",
    "version": 3
   },
   "file_extension": ".py",
   "mimetype": "text/x-python",
   "name": "python",
   "nbconvert_exporter": "python",
   "pygments_lexer": "ipython3",
   "version": "3.4.3"
  }
 },
 "nbformat": 4,
 "nbformat_minor": 0
}
