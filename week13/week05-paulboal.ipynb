{
 "cells": [
  {
   "cell_type": "markdown",
   "metadata": {},
   "source": [
    "# Week 5 Assignment - Modules and Classes\n",
    "\n",
    "\n",
    "## 1 - Dose Class (15 pts)\n",
    "\n",
    "Take what we put together for the assignment in week 3 around parsing a string like \"Amoxicillin 10 mg/day\" and create a new class in a separate module that will help us manage that kind of information.\n",
    "\n",
    "Create a module file simply named \"dose\".  In that new file, create a class named Dose.  Your Dose class should have the following attributes and methods:\n",
    "\n",
    "```\n",
    "* __init__(self, text)\n",
    "* drug for the drug name as a string\n",
    "* amount for the the amount as a float\n",
    "* mass_unit for just the mass units part as a string\n",
    "* time_unit for just the time units part as a string\n",
    "```\n",
    "\n",
    "In your regular homework file (week05-username), demonstrate you code works using the procedure in the cell below:"
   ]
  },
  {
   "cell_type": "code",
   "execution_count": 1,
   "metadata": {
    "collapsed": false
   },
   "outputs": [
    {
     "name": "stdout",
     "output_type": "stream",
     "text": [
      "importing Jupyter notebook from dose.ipynb\n",
      "Amoxicillin\n",
      "100.0\n",
      "mg\n",
      "hr\n"
     ]
    }
   ],
   "source": [
    "import jupyterimporter\n",
    "from dose import Dose\n",
    "d = Dose('Amoxicillin 100 mg/hr')\n",
    "print(d.drug)\n",
    "print(d.amount)\n",
    "print(d.mass_unit)\n",
    "print(d.time_unit)"
   ]
  },
  {
   "cell_type": "code",
   "execution_count": 2,
   "metadata": {
    "collapsed": false
   },
   "outputs": [
    {
     "data": {
      "text/plain": [
       "'Amoxicillin'"
      ]
     },
     "execution_count": 2,
     "metadata": {},
     "output_type": "execute_result"
    }
   ],
   "source": [
    "d.drug"
   ]
  },
  {
   "cell_type": "code",
   "execution_count": 3,
   "metadata": {
    "collapsed": false
   },
   "outputs": [
    {
     "data": {
      "text/plain": [
       "2"
      ]
     },
     "execution_count": 3,
     "metadata": {},
     "output_type": "execute_result"
    }
   ],
   "source": [
    "d.drug.find(\"o\")"
   ]
  },
  {
   "cell_type": "markdown",
   "metadata": {},
   "source": [
    "## 2 - Extending Dose\n",
    "\n",
    "Add another method to your Dose class like the following.\n",
    "\n",
    "```\n",
    "* is_overdose(self, reference) which compares this Dose with the reference Dose\n",
    "```\n",
    "\n",
    "For the sake of simplicity, don't worry about trying to convert units.  Just check to see if they are the same in both the Dose and the reference Dose.\n",
    "\n",
    "If the drug and units are the same, and the amount is less than or equal to the reference amount, return False.\n",
    "If the drug and units are not the same, then return None.\n",
    "Otherwise return True.\n",
    "\n",
    "Note, 'None' is a special kind of value that any variable can have.  It means that the value of this variable is undefined.  Verify your work with the examples below."
   ]
  },
  {
   "cell_type": "code",
   "execution_count": 4,
   "metadata": {
    "collapsed": false
   },
   "outputs": [
    {
     "name": "stdout",
     "output_type": "stream",
     "text": [
      "True\n",
      "False\n",
      "None\n"
     ]
    }
   ],
   "source": [
    "ref = Dose('Amoxicillin 50 mg/hr')\n",
    "print (d.is_overdose(ref))\n",
    "# Should return True\n",
    "\n",
    "print (d.is_overdose(d))\n",
    "# Should return False\n",
    "\n",
    "print (d.is_overdose(Dose('Penicillin 100 mg/day')))\n",
    "# Should return None"
   ]
  },
  {
   "cell_type": "code",
   "execution_count": null,
   "metadata": {
    "collapsed": true
   },
   "outputs": [],
   "source": []
  }
 ],
 "metadata": {
  "kernelspec": {
   "display_name": "Python 3",
   "language": "python",
   "name": "python3"
  },
  "language_info": {
   "codemirror_mode": {
    "name": "ipython",
    "version": 3
   },
   "file_extension": ".py",
   "mimetype": "text/x-python",
   "name": "python",
   "nbconvert_exporter": "python",
   "pygments_lexer": "ipython3",
   "version": "3.4.3"
  }
 },
 "nbformat": 4,
 "nbformat_minor": 0
}
