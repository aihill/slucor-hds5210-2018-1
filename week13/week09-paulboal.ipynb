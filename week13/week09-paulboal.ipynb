{
 "cells": [
  {
   "cell_type": "markdown",
   "metadata": {},
   "source": [
    "_HDS5210: Programming for Health Data Science_\n",
    "\n",
    "# Week 09 Assignment - JSON and XML\n",
    "\n",
    "In this week's assignment, we're going to create and parse some JSON and XML.  The first step will be to create, by hand, some JSON and XML that represents a real-world concept.  Then, you'll do some processing on that with Python."
   ]
  },
  {
   "cell_type": "markdown",
   "metadata": {},
   "source": [
    "# 1 - JSON for hospital information\n",
    "\n",
    "Take the list of information below and create a JSON structure that describes the same concept: a list of health systems, the hospitals in that system, and the attributes associated with each hospital.\n",
    "\n",
    "```\n",
    "System    Hospital    City        Beds\n",
    "BJC       BJH         St. Louis   1432\n",
    "BJC       MOBap       Creve Coeur 1107\n",
    "SSM       SLUH        St. Louis   965\n",
    "Mercy     Mercy STL   Creve Coeur 983\n",
    "```"
   ]
  },
  {
   "cell_type": "code",
   "execution_count": 7,
   "metadata": {
    "collapsed": false
   },
   "outputs": [],
   "source": [
    "import json\n",
    "\n",
    "# Use this name and put your JSON version of the above table here...\n",
    "\n",
    "# There are a lot of different possibilities for this.  Here are a few with some pros/cons.\n",
    "\n",
    "# 1 - Simple list of lists, but then you loose any convenient access to the column headers.  \n",
    "#     Obviously, I could include the header, too, but it's not very sophisticated.\n",
    "hospitals_list = \"\"\"\n",
    "[[\"BJC\",\"BJH\",\"St. Louis\",1432],\n",
    " [\"BJC\",\"MOBap\",\"Creve Coeur\",1107],\n",
    " [\"SSM\",\"SLUH\",\"St. Louis\",965],\n",
    " [\"Mercy\",\"Mercy STL\",\"Creve Coeur\",983]]\n",
    "\"\"\"\n",
    "\n",
    "h_list = json.loads(hospitals_list)\n",
    "\n",
    "\n",
    "\n",
    "# 2 - I could do a list of dictionaries.  This is a bit verbose, having to repeat the header information\n",
    "#     for each element, but it's perfectly reasonable JSON.  JSON is verbose, but that avoids confusion.\n",
    "hospitals_dictionary = \"\"\"\n",
    "[{ \"System\": \"BJC\", \"Hospital\":\"BJH\", \"City\":\"St. Louis\", \"Beds\": 1432},\n",
    " { \"System\": \"BJC\", \"Hospital\":\"MOBap\", \"City\":\"Creve Coeur\", \"Beds\": 1107},\n",
    " { \"System\": \"SSM\", \"Hospital\":\"SLUH\", \"City\":\"St. Louis\", \"Beds\":965},\n",
    " { \"System\": \"Mercy\", \"Hospital\":\"Mercy STL\", \"City\":\"Creve Coeur\", \"Beds\": 983}]\n",
    "\"\"\"\n",
    "\n",
    "h_dictionary = json.loads(hospitals_dictionary)\n",
    "\n",
    "\n",
    "\n",
    "# 3 - We could also make something a bit more hierarchical that would store one list item per\n",
    "#     system and a child list of hospitals.\n",
    "hospitals_by_system = \"\"\"\n",
    "[{ \"System\": \"BJC\", \"Hospitals\": [\n",
    "    { \"Hospital\": \"BJH\", \"City\": \"St. Louis\", \"Beds\": 1432 },\n",
    "    { \"Hospital\": \"MOBap\", \"City\": \"Creve Coeur\", \"Beds\": 1107 }\n",
    " ]},\n",
    " { \"System\": \"SSM\", \"Hospitals\": [\n",
    "    { \"Hospital\": \"SLUH\", \"City\": \"St. Louis\", \"Beds\": 965 }\n",
    " ]},\n",
    " { \"System\": \"Mercy\", \"Hospitals\": [\n",
    "    { \"Hospital\": \"Mercy STL\", \"City\": \"Creve Coeur\", \"Beds\": 983 }\n",
    " ]}]\n",
    "\"\"\"\n",
    "\n",
    "h_by_system = json.loads(hospitals_by_system)\n",
    "\n",
    "\n",
    "\n",
    "#4 - One final practical way to do it is to store everything hierarchically by city\n",
    "#    This might be especially valuable since we're going to summarize things by city anyway.\n",
    "hospitals_by_city = \"\"\"\n",
    "[{ \"City\": \"St. Louis\", \"Hospitals\": [\n",
    "    { \"System\": \"BJC\", \"Hospital\": \"BJH\", \"Beds\": 1432 },\n",
    "    { \"System\": \"SSM\", \"Hospital\": \"SLUH\", \"Beds\": 965 }\n",
    " ]},\n",
    " { \"City\": \"Creve Coeur\", \"Hospitals\": [\n",
    "    { \"Hospital\": \"MOBap\", \"City\": \"Creve Coeur\", \"Beds\": 1107 },\n",
    "    { \"Hospital\": \"Mercy STL\", \"City\": \"Creve Coeur\", \"Beds\": 983 }\n",
    " ]}]\n",
    "\"\"\"\n",
    "\n",
    "h_by_city = json.loads(hospitals_by_city)"
   ]
  },
  {
   "cell_type": "code",
   "execution_count": 9,
   "metadata": {
    "collapsed": false
   },
   "outputs": [
    {
     "name": "stdout",
     "output_type": "stream",
     "text": [
      "[\n",
      "  {\n",
      "    \"City\": \"St. Louis\",\n",
      "    \"Hospitals\": [\n",
      "      {\n",
      "        \"System\": \"BJC\",\n",
      "        \"Beds\": 1432,\n",
      "        \"Hospital\": \"BJH\"\n",
      "      },\n",
      "      {\n",
      "        \"System\": \"SSM\",\n",
      "        \"Beds\": 965,\n",
      "        \"Hospital\": \"SLUH\"\n",
      "      }\n",
      "    ]\n",
      "  },\n",
      "  {\n",
      "    \"City\": \"Creve Coeur\",\n",
      "    \"Hospitals\": [\n",
      "      {\n",
      "        \"City\": \"Creve Coeur\",\n",
      "        \"Beds\": 1107,\n",
      "        \"Hospital\": \"MOBap\"\n",
      "      },\n",
      "      {\n",
      "        \"City\": \"Creve Coeur\",\n",
      "        \"Beds\": 983,\n",
      "        \"Hospital\": \"Mercy STL\"\n",
      "      }\n",
      "    ]\n",
      "  }\n",
      "]\n"
     ]
    }
   ],
   "source": [
    "print(json.dumps(h_by_city, indent=2))"
   ]
  },
  {
   "cell_type": "markdown",
   "metadata": {},
   "source": [
    "# 2 - Total Beds per City\n",
    "\n",
    "Using your JSON structure as a starting point, compute the total number of beds per city and what percent of the total beds that represents.  Deliver the results as a JSON structure.\n",
    "\n",
    "```\n",
    "{ \n",
    "  \"St. Louis\": {\n",
    "    \"Total Beds\": 2397,\n",
    "    \"Percent of Beds\": 0.534\n",
    "  },\n",
    "  \"Creve Coeur\": {\n",
    "    \"Total Beds\": 2090,\n",
    "    \"Percent of Beds\": 0.466\n",
    "  }\n",
    "}\n",
    "```"
   ]
  },
  {
   "cell_type": "code",
   "execution_count": 18,
   "metadata": {
    "collapsed": false
   },
   "outputs": [
    {
     "data": {
      "text/plain": [
       "{'Creve Coeur': {'Percent of Beds': 0.4657900601738355, 'Total Beds': 2090},\n",
       " 'St. Louis': {'Percent of Beds': 0.5342099398261645, 'Total Beds': 2397}}"
      ]
     },
     "execution_count": 18,
     "metadata": {},
     "output_type": "execute_result"
    }
   ],
   "source": [
    "# Here again, we'll do all four solutions.\n",
    "# In all cases, we want our output to be store in a dictionary structure as above.\n",
    "\n",
    "# 1 - List of lists\n",
    "total_beds = 0\n",
    "city_totals = {}\n",
    "\n",
    "for hospital in h_list:\n",
    "    city = hospital[2]\n",
    "    beds = hospital[3]\n",
    "    total_beds += beds\n",
    "    \n",
    "    if city in city_totals:\n",
    "        city_totals[city][\"Total Beds\"] += beds\n",
    "    else:\n",
    "        city_totals[city] = {}\n",
    "        city_totals[city][\"Total Beds\"] = beds\n",
    "\n",
    "        \n",
    "for city, bed_info in city_totals.items():\n",
    "    bed_info[\"Percent of Beds\"] = float(bed_info[\"Total Beds\"]) / total_beds\n",
    "    \n",
    "city_totals"
   ]
  },
  {
   "cell_type": "code",
   "execution_count": 21,
   "metadata": {
    "collapsed": false
   },
   "outputs": [
    {
     "data": {
      "text/plain": [
       "{'Creve Coeur': {'Percent of Beds': 0.4657900601738355, 'Total Beds': 2090},\n",
       " 'St. Louis': {'Percent of Beds': 0.5342099398261645, 'Total Beds': 2397}}"
      ]
     },
     "execution_count": 21,
     "metadata": {},
     "output_type": "execute_result"
    }
   ],
   "source": [
    "# 2 - List of Dictionaries\n",
    "total_beds = 0\n",
    "city_totals = {}\n",
    "\n",
    "for hospital in h_dictionary:\n",
    "    city = hospital[\"City\"]\n",
    "    beds = hospital[\"Beds\"]\n",
    "    total_beds += beds\n",
    "    \n",
    "    if city in city_totals:\n",
    "        city_totals[city][\"Total Beds\"] += beds\n",
    "    else:\n",
    "        city_totals[city] = {}\n",
    "        city_totals[city][\"Total Beds\"] = beds\n",
    "\n",
    "for city, bed_info in city_totals.items():\n",
    "    bed_info[\"Percent of Beds\"] = float(bed_info[\"Total Beds\"]) / total_beds\n",
    "    \n",
    "city_totals"
   ]
  },
  {
   "cell_type": "code",
   "execution_count": 23,
   "metadata": {
    "collapsed": false
   },
   "outputs": [
    {
     "data": {
      "text/plain": [
       "{'Creve Coeur': {'Percent of Beds': 0.4657900601738355, 'Total Beds': 2090},\n",
       " 'St. Louis': {'Percent of Beds': 0.5342099398261645, 'Total Beds': 2397}}"
      ]
     },
     "execution_count": 23,
     "metadata": {},
     "output_type": "execute_result"
    }
   ],
   "source": [
    "# 3 - Hospitals by System\n",
    "total_beds = 0\n",
    "city_totals = {}\n",
    "\n",
    "for system in h_by_system:\n",
    "    for hospital in system[\"Hospitals\"]:\n",
    "        city = hospital[\"City\"]\n",
    "        beds = hospital[\"Beds\"]\n",
    "        total_beds += beds\n",
    "        \n",
    "        if city in city_totals:\n",
    "            city_totals[city][\"Total Beds\"] += beds\n",
    "        else:\n",
    "            city_totals[city] = {}\n",
    "            city_totals[city][\"Total Beds\"] = beds\n",
    "            \n",
    "for city, bed_info in city_totals.items():\n",
    "    bed_info[\"Percent of Beds\"] = float(bed_info[\"Total Beds\"]) / total_beds\n",
    "    \n",
    "city_totals"
   ]
  },
  {
   "cell_type": "code",
   "execution_count": 24,
   "metadata": {
    "collapsed": false
   },
   "outputs": [
    {
     "data": {
      "text/plain": [
       "{'Creve Coeur': {'Percent of Beds': 0.4657900601738355, 'Total Beds': 2090},\n",
       " 'St. Louis': {'Percent of Beds': 0.5342099398261645, 'Total Beds': 2397}}"
      ]
     },
     "execution_count": 24,
     "metadata": {},
     "output_type": "execute_result"
    }
   ],
   "source": [
    "# 4 - Hospital Beds by City\n",
    "total_beds = 0\n",
    "city_totals = {}\n",
    "\n",
    "for entry in h_by_city:\n",
    "    city = entry[\"City\"]\n",
    "    for hospital in entry[\"Hospitals\"]:\n",
    "        beds = hospital[\"Beds\"]\n",
    "        total_beds += beds\n",
    "        \n",
    "        if city in city_totals:\n",
    "            city_totals[city][\"Total Beds\"] += beds\n",
    "        else:\n",
    "            city_totals[city] = {}\n",
    "            city_totals[city][\"Total Beds\"] = beds\n",
    "            \n",
    "for city, bed_info in city_totals.items():\n",
    "    bed_info[\"Percent of Beds\"] = float(bed_info[\"Total Beds\"]) / total_beds\n",
    "    \n",
    "city_totals"
   ]
  },
  {
   "cell_type": "markdown",
   "metadata": {},
   "source": [
    "# 3 - Drug XML\n",
    "\n",
    "Create an XML structure that describes a set of drugs and the possible dosages they might have based on the table below.\n",
    "\n",
    "Create an element named `<drug>` for each drug entry.\n",
    "\n",
    "Make the name, dosage, units, and cost attributes of each drug.  Note that the cost is the cost per pill rather than the cost mg.\n",
    "\n",
    "Make the count the text for that drug element.\n",
    "\n",
    "```\n",
    "Name     Dosage    Units   Cost   Count\n",
    "Asprin   100       mg      0.10   320\n",
    "Asprin   200       mg      0.15   211\n",
    "Digoxin  10        mL      1.22   19\n",
    "Digoxin  20        mL      2.01   27\n",
    "```"
   ]
  },
  {
   "cell_type": "code",
   "execution_count": 33,
   "metadata": {
    "collapsed": false
   },
   "outputs": [
    {
     "name": "stdout",
     "output_type": "stream",
     "text": [
      "<drugs>\n",
      "  <drug Cost=\"0.10\" Dosage=\"100\" Name=\"Asprin\" Units=\"mg\">320</drug>\n",
      "  <drug Cost=\"0.15\" Dosage=\"200\" Name=\"Asprin\" Units=\"mg\">211</drug>\n",
      "  <drug Cost=\"1.22\" Dosage=\"10\" Name=\"Digoxin\" Units=\"mg\">19</drug>\n",
      "  <drug Cost=\"2.01\" Dosage=\"20\" Name=\"Digoxin\" Units=\"mg\">27</drug>\n",
      "</drugs>\n"
     ]
    }
   ],
   "source": [
    "import xml.etree.ElementTree as xml\n",
    "\n",
    "drugs = \"\"\"<?xml version=\"1.0\"?>\n",
    "<drugs>\n",
    "  <drug Name=\"Asprin\" Dosage=\"100\" Units=\"mg\" Cost=\"0.10\">320</drug>\n",
    "  <drug Name=\"Asprin\" Dosage=\"200\" Units=\"mg\" Cost=\"0.15\">211</drug>\n",
    "  <drug Name=\"Digoxin\" Dosage=\"10\" Units=\"mg\" Cost=\"1.22\">19</drug>\n",
    "  <drug Name=\"Digoxin\" Dosage=\"20\" Units=\"mg\" Cost=\"2.01\">27</drug>\n",
    "</drugs>\n",
    "\"\"\"\n",
    "\n",
    "root = xml.fromstring(drugs)\n",
    "\n",
    "xml.dump(root)"
   ]
  },
  {
   "cell_type": "markdown",
   "metadata": {},
   "source": [
    "# 4 - Compute average cost per unit\n",
    "\n",
    "Read in your XML above and compute the total amount spend on each drug.  Store the output in dictionary:\n",
    "{\n",
    "  Asprin: 63.65,\n",
    "  Digoxin: 77.45\n",
    "}\n"
   ]
  },
  {
   "cell_type": "code",
   "execution_count": 40,
   "metadata": {
    "collapsed": false
   },
   "outputs": [
    {
     "data": {
      "text/plain": [
       "{'Asprin': 63.65, 'Digoxin': 77.44999999999999}"
      ]
     },
     "execution_count": 40,
     "metadata": {},
     "output_type": "execute_result"
    }
   ],
   "source": [
    "costs = {}\n",
    "for drug in root:\n",
    "    name = drug.attrib[\"Name\"]\n",
    "    count = float(drug.text)\n",
    "    cost = float(drug.attrib[\"Cost\"])\n",
    "    \n",
    "    if name in costs:\n",
    "        costs[name] += (count * cost)\n",
    "    else:\n",
    "        costs[name] = (count * cost)\n",
    "\n",
    "costs"
   ]
  },
  {
   "cell_type": "code",
   "execution_count": null,
   "metadata": {
    "collapsed": true
   },
   "outputs": [],
   "source": []
  }
 ],
 "metadata": {
  "kernelspec": {
   "display_name": "Python 3",
   "language": "python",
   "name": "python3"
  },
  "language_info": {
   "codemirror_mode": {
    "name": "ipython",
    "version": 3
   },
   "file_extension": ".py",
   "mimetype": "text/x-python",
   "name": "python",
   "nbconvert_exporter": "python",
   "pygments_lexer": "ipython3",
   "version": "3.4.3"
  }
 },
 "nbformat": 4,
 "nbformat_minor": 0
}
