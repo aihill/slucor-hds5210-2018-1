{
 "cells": [
  {
   "cell_type": "markdown",
   "metadata": {},
   "source": [
    "```\n",
    "According to http://health.costhelper.com/tonsil-removal.html, the average cost of a \n",
    "tonsillectomy is $5,442 for someone paying out of pocket without insurance. The out of \n",
    "pocket cost for someone with a typical insurance plan is about $2,000. If 2% of 10 to 14 \n",
    "year old kids in Missouri get their tonsils removed this year, and only 50% of those \n",
    "families are covered by insurance, what is the total out of pocket cost for \n",
    "tonsillectomies for Missouri families for this year.\n",
    "\n",
    "Use https://suburbanstats.org/population/how-many-people-live-in-missouri as your \n",
    "source for the number of 10 to 14 year olds in Missouri.\n",
    "\n",
    "As usual, show your work and thought process through readable code and comments as needed.\n",
    "```"
   ]
  },
  {
   "cell_type": "code",
   "execution_count": 1,
   "metadata": {
    "collapsed": false
   },
   "outputs": [
    {
     "name": "stdout",
     "output_type": "stream",
     "text": [
      "Tonsillectomies:                       7,910\n",
      "\n",
      "Total Cost (no insurance):  $  21,522,348.12\n",
      "Total Cost (insurance):     $   7,909,720.00\n",
      "                             ===============\n",
      "Total Cost:                 $  29,432,068.12\n"
     ]
    }
   ],
   "source": [
    "cost_no_insurance = 5442\n",
    "cost_with_insurance = 2000\n",
    "tonsillectomy_rate = 0.02\n",
    "insurance_rate = 0.50\n",
    "kids_10_to_14 = 202318 + 193168\n",
    "\n",
    "tonsillectomies = kids_10_to_14 * tonsillectomy_rate\n",
    "\n",
    "total_cost_no_insurance = tonsillectomies * (1 - insurance_rate) * cost_no_insurance\n",
    "total_cost_with_insurance = tonsillectomies * insurance_rate * cost_with_insurance\n",
    "\n",
    "total_cost = total_cost_no_insurance + total_cost_with_insurance\n",
    "\n",
    "print(\"Tonsillectomies:             {0:15,.0f}\".format(tonsillectomies))\n",
    "print(\"\")\n",
    "print(\"Total Cost (no insurance):  ${0:15,.2f}\".format(total_cost_no_insurance))\n",
    "print(\"Total Cost (insurance):     ${0:15,.2f}\".format(total_cost_with_insurance))\n",
    "print(\"                             {0:15s}\".format(\"=\"*15))\n",
    "print(\"Total Cost:                 ${0:15,.2f}\".format(total_cost))\n"
   ]
  },
  {
   "cell_type": "code",
   "execution_count": 2,
   "metadata": {
    "collapsed": false
   },
   "outputs": [
    {
     "name": "stdout",
     "output_type": "stream",
     "text": [
      "Tonsillectomies:                       4,046\n",
      "\n",
      "Total Cost (no insurance):  $  11,010,145.56\n",
      "Total Cost (insurance):     $   4,046,360.00\n",
      "                             ===============\n",
      "Total Cost:                 $  15,056,505.56\n"
     ]
    }
   ],
   "source": [
    "cost_no_insurance = 5442\n",
    "cost_with_insurance = 2000\n",
    "tonsillectomy_rate = 0.02\n",
    "insurance_rate = 0.50\n",
    "kids_10_to_14 = 202318\n",
    "\n",
    "tonsillectomies = kids_10_to_14 * tonsillectomy_rate\n",
    "\n",
    "total_cost_no_insurance = tonsillectomies * (1 - insurance_rate) * cost_no_insurance\n",
    "total_cost_with_insurance = tonsillectomies * insurance_rate * cost_with_insurance\n",
    "\n",
    "total_cost = total_cost_no_insurance + total_cost_with_insurance\n",
    "\n",
    "print(\"Tonsillectomies:             {0:15,.0f}\".format(tonsillectomies))\n",
    "print(\"\")\n",
    "print(\"Total Cost (no insurance):  ${0:15,.2f}\".format(total_cost_no_insurance))\n",
    "print(\"Total Cost (insurance):     ${0:15,.2f}\".format(total_cost_with_insurance))\n",
    "print(\"                             {0:15s}\".format(\"=\"*15))\n",
    "print(\"Total Cost:                 ${0:15,.2f}\".format(total_cost))\n"
   ]
  },
  {
   "cell_type": "code",
   "execution_count": null,
   "metadata": {
    "collapsed": true
   },
   "outputs": [],
   "source": []
  }
 ],
 "metadata": {
  "kernelspec": {
   "display_name": "Python 3",
   "language": "python",
   "name": "python3"
  },
  "language_info": {
   "codemirror_mode": {
    "name": "ipython",
    "version": 3
   },
   "file_extension": ".py",
   "mimetype": "text/x-python",
   "name": "python",
   "nbconvert_exporter": "python",
   "pygments_lexer": "ipython3",
   "version": "3.4.3"
  }
 },
 "nbformat": 4,
 "nbformat_minor": 0
}
