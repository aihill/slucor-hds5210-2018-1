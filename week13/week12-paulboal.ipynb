{
 "cells": [
  {
   "cell_type": "markdown",
   "metadata": {},
   "source": [
    "_HDS5210 Programming for Health Data Science_\n",
    "\n",
    "# Week 12 - Introduction to Databases\n",
    "\n",
    "This week, we're talking about different types of databases and database concepts.  See https://docs.google.com/presentation/d/13-1Q497SZTUYu-nrWuGImg5k6XXyn1sU0fa8yhc6VjQ/edit?usp=sharing for our lecture and chatper 17 in the text.\n"
   ]
  },
  {
   "cell_type": "markdown",
   "metadata": {},
   "source": [
    "## 1. Types of Databases\n",
    "\n",
    "_10 pts_\n",
    "\n",
    "We talked in class about several different types of databaes and how they are typically used.  For this first part of the assignment, think about a real-world scenario such where you might need to use a database.  Maybe it's around the collection of claim data, or medical procedures, or drug administration, or public health.  Describe how that data might be managed using two different database types.  Explain why you chose those two and what some of the pros and cons might be of using each database type for that particular scenario.\n",
    "\n",
    "1. Describe you scenario\n",
    "2. Pick two different database styles (relational, document, key/value, graph, hadoop) and explain why you chose those two as options for this scenario.\n",
    "3. Explain the pros and cons of each, relative to your scenario\n"
   ]
  },
  {
   "cell_type": "markdown",
   "metadata": {},
   "source": [
    "ANSWER HERE:"
   ]
  },
  {
   "cell_type": "markdown",
   "metadata": {},
   "source": [
    "## 2. Joins\n",
    "\n",
    "_5 pts_\n",
    "\n",
    "In class, we discussed how relational databases perform joins between tables.  Describe the relationship between what you learned about database joins and the `join` function that we created as part of the midterm by answering the questions below.\n",
    "\n",
    "1. Why do relational databases store data in different tables that have to later be joined together?\n",
    "2. How does a database do a join?\n",
    "3. In general, which is better: joining two tables inside a database with SQL or extracting the data from each table and doing the join in Python?  Why?\n"
   ]
  },
  {
   "cell_type": "markdown",
   "metadata": {},
   "source": [
    "ANSWER HERE:"
   ]
  },
  {
   "cell_type": "markdown",
   "metadata": {},
   "source": [
    "## 3. Database Access with mysqlclient\n",
    "\n",
    "_5 pts_\n",
    "\n",
    "Use the Python `mysqlclient` module as demonstrated in class to query the `cdi` table to describe how many unique (distinct) values there are for each of the fields (columns) below:\n",
    "\n",
    "* DataSource\n",
    "* DataValueType\n",
    "* LocationAbbr\n",
    "* Question\n",
    "* Topic\n",
    "* TopicID\n",
    "* YearEnd\n"
   ]
  },
  {
   "cell_type": "code",
   "execution_count": 4,
   "metadata": {
    "collapsed": false
   },
   "outputs": [
    {
     "name": "stdout",
     "output_type": "stream",
     "text": [
      "DataSource has 32 unique values.\n",
      "DataValueType has 19 unique values.\n",
      "LocationAbbr has 55 unique values.\n",
      "Question has 201 unique values.\n",
      "Topic has 17 unique values.\n",
      "TopicID has 17 unique values.\n",
      "YearEnd has 8 unique values.\n"
     ]
    }
   ],
   "source": [
    "import pymysql.cursors\n",
    "\n",
    "connection = pymysql.connect(\n",
    "    host='localhost',\n",
    "    user='slucor',\n",
    "    password='S1UC0R',\n",
    "    db='hds5210',\n",
    "    cursorclass=pymysql.cursors.DictCursor)\n",
    "\n",
    "fields = ['DataSource','DataValueType','LocationAbbr','Question','Topic','TopicID','YearEnd']\n",
    "\n",
    "for f in fields:\n",
    "    cursor = connection.cursor()\n",
    "    sql = \"SELECT COUNT(DISTINCT \" + f + \") AS c FROM cdi\"\n",
    "    cursor.execute(sql)\n",
    "    result = cursor.fetchone()\n",
    "    print(\"{:s} has {:d} unique values.\".format(f, result[\"c\"]))\n"
   ]
  },
  {
   "cell_type": "code",
   "execution_count": 3,
   "metadata": {
    "collapsed": false
   },
   "outputs": [
    {
     "name": "stdout",
     "output_type": "stream",
     "text": [
      "DataSource has 32 unique values.\n",
      "DataValueType has 19 unique values.\n",
      "LocationAbbr has 55 unique values.\n",
      "Question has 201 unique values.\n",
      "Topic has 17 unique values.\n",
      "TopicID has 17 unique values.\n",
      "YearEnd has 8 unique values.\n"
     ]
    }
   ],
   "source": [
    "import pymysql.cursors\n",
    "\n",
    "connection = pymysql.connect(\n",
    "    host='localhost',\n",
    "    user='slucor',\n",
    "    password='S1UC0R',\n",
    "    db='hds5210',\n",
    "    cursorclass=pymysql.cursors.DictCursor)\n",
    "\n",
    "fields = ['DataSource','DataValueType','LocationAbbr','Question','Topic','TopicID','YearEnd']\n",
    "\n",
    "for f in fields:\n",
    "    cursor = connection.cursor()\n",
    "    sql = \"SELECT DISTINCT \" + f + \" AS c FROM cdi\"\n",
    "    cursor.execute(sql)\n",
    "    result = cursor.fetchall()\n",
    "    print(\"{:s} has {:d} unique values.\".format(f, len(result)))\n"
   ]
  },
  {
   "cell_type": "code",
   "execution_count": null,
   "metadata": {
    "collapsed": true
   },
   "outputs": [],
   "source": []
  }
 ],
 "metadata": {
  "kernelspec": {
   "display_name": "Python 3",
   "language": "python",
   "name": "python3"
  },
  "language_info": {
   "codemirror_mode": {
    "name": "ipython",
    "version": 3
   },
   "file_extension": ".py",
   "mimetype": "text/x-python",
   "name": "python",
   "nbconvert_exporter": "python",
   "pygments_lexer": "ipython3",
   "version": "3.4.3"
  }
 },
 "nbformat": 4,
 "nbformat_minor": 0
}
