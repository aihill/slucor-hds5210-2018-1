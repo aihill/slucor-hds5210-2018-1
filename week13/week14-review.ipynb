{
 "cells": [
  {
   "cell_type": "markdown",
   "metadata": {},
   "source": [
    "_HDS5210 Programming for Health Data Science_\n",
    "\n",
    "# Week 14\n",
    "\n",
    "Note that there was no Week 13 (Thanksgiving).\n",
    "\n",
    "Week 14 is a review of the year and preparation for the final.\n",
    "\n",
    "In this folder are the solutions from all of the homework this semester and the midterm.\n",
    "\n",
    "In this presentation, there is a summary of the entire semester: https://docs.google.com/presentation/d/1ww0B_9V0MpJ4qPTy53YCal4H7GtBviz9P4u60ZeA_OA/edit?usp=sharing\n"
   ]
  },
  {
   "cell_type": "markdown",
   "metadata": {
    "collapsed": true
   },
   "source": [
    "## Important Concepts to Review\n",
    "\n",
    "* **Algorithms** - Writing out your approach to solving a problem.\n",
    "* **JSON** - Reading JSON formatted information from a file into a Python object\n",
    "* **XML** - Reading XML formatted information from a file into a Python object\n",
    "* **Databases** - Querying a database and processing the information\n",
    "* **doctest** - Using doctest to test your function definitions\n",
    "* **lists & dictionaries** - Processing data that is contained in Python lists any Python dictionaries\n",
    "\n"
   ]
  },
  {
   "cell_type": "code",
   "execution_count": 3,
   "metadata": {
    "collapsed": false
   },
   "outputs": [],
   "source": [
    "a = [ { \"name\": \"SLUH\", \"beds\": 348 }, { \"name\": \"Mercy\", \"beds\": 500 }, { \"name\": \"MoBap\", \"beds\": 340 }]"
   ]
  },
  {
   "cell_type": "code",
   "execution_count": 4,
   "metadata": {
    "collapsed": false
   },
   "outputs": [
    {
     "data": {
      "text/plain": [
       "[{'beds': 340, 'name': 'MoBap'},\n",
       " {'beds': 348, 'name': 'SLUH'},\n",
       " {'beds': 500, 'name': 'Mercy'}]"
      ]
     },
     "execution_count": 4,
     "metadata": {},
     "output_type": "execute_result"
    }
   ],
   "source": [
    "sorted(a, key=lambda f: f[\"beds\"])"
   ]
  },
  {
   "cell_type": "code",
   "execution_count": 5,
   "metadata": {
    "collapsed": true
   },
   "outputs": [],
   "source": [
    "a=7\n",
    "b='A'"
   ]
  },
  {
   "cell_type": "code",
   "execution_count": 7,
   "metadata": {
    "collapsed": false
   },
   "outputs": [
    {
     "name": "stdout",
     "output_type": "stream",
     "text": [
      "Hello\n",
      "Bye\n"
     ]
    }
   ],
   "source": [
    "if a==7:\n",
    "    print(\"Hello\")\n",
    "if b=='A':\n",
    "    print(\"Bye\")"
   ]
  },
  {
   "cell_type": "code",
   "execution_count": 8,
   "metadata": {
    "collapsed": false
   },
   "outputs": [
    {
     "name": "stdout",
     "output_type": "stream",
     "text": [
      "Hello\n"
     ]
    }
   ],
   "source": [
    "if a==7:\n",
    "    print(\"Hello\")\n",
    "elif b=='A':\n",
    "    print(\"Bye\")\n",
    "else:\n",
    "    print(\"Nevermind\")"
   ]
  },
  {
   "cell_type": "code",
   "execution_count": 9,
   "metadata": {
    "collapsed": true
   },
   "outputs": [],
   "source": [
    "a=['abc', 'xyz', '123']"
   ]
  },
  {
   "cell_type": "code",
   "execution_count": 10,
   "metadata": {
    "collapsed": false
   },
   "outputs": [
    {
     "data": {
      "text/plain": [
       "'[\"abc\", \"xyz\", \"123\"]'"
      ]
     },
     "execution_count": 10,
     "metadata": {},
     "output_type": "execute_result"
    }
   ],
   "source": [
    "import json\n",
    "json.dumps(a)"
   ]
  },
  {
   "cell_type": "code",
   "execution_count": 14,
   "metadata": {
    "collapsed": false
   },
   "outputs": [],
   "source": [
    "lookup = { \"SLU\": 458, \"Mercy\": 500, \"MoBap\": 340, \"SLU\": 888 }"
   ]
  },
  {
   "cell_type": "code",
   "execution_count": 15,
   "metadata": {
    "collapsed": false
   },
   "outputs": [
    {
     "data": {
      "text/plain": [
       "888"
      ]
     },
     "execution_count": 15,
     "metadata": {},
     "output_type": "execute_result"
    }
   ],
   "source": [
    "hospital = 'SLU'\n",
    "lookup[hospital]"
   ]
  },
  {
   "cell_type": "code",
   "execution_count": 16,
   "metadata": {
    "collapsed": false
   },
   "outputs": [
    {
     "data": {
      "text/plain": [
       "{'Mercy': 500, 'MoBap': 340, 'SLU': 888}"
      ]
     },
     "execution_count": 16,
     "metadata": {},
     "output_type": "execute_result"
    }
   ],
   "source": [
    "lookup"
   ]
  },
  {
   "cell_type": "markdown",
   "metadata": {},
   "source": [
    "## Book recommendation\n",
    "\n",
    "https://www.amazon.com/Data-Science-Scratch-Principles-Python/dp/149190142X\n"
   ]
  },
  {
   "cell_type": "markdown",
   "metadata": {},
   "source": [
    "## Command Line on WIndows\n",
    "\n",
    "cygwin - bash shell & unix tools for Windows\n",
    "\n",
    "https://www.cygwin.com/"
   ]
  },
  {
   "cell_type": "code",
   "execution_count": null,
   "metadata": {
    "collapsed": true
   },
   "outputs": [],
   "source": []
  }
 ],
 "metadata": {
  "kernelspec": {
   "display_name": "Python 3",
   "language": "python",
   "name": "python3"
  },
  "language_info": {
   "codemirror_mode": {
    "name": "ipython",
    "version": 3
   },
   "file_extension": ".py",
   "mimetype": "text/x-python",
   "name": "python",
   "nbconvert_exporter": "python",
   "pygments_lexer": "ipython3",
   "version": "3.4.3"
  }
 },
 "nbformat": 4,
 "nbformat_minor": 0
}
