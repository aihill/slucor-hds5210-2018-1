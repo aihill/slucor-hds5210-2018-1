{
 "cells": [
  {
   "cell_type": "markdown",
   "metadata": {},
   "source": [
    "_HDS5210: Programming for Health Data Scientists_\n",
    "\n",
    "# Week 8 - Dictionaries and Other Data Types\n",
    "\n"
   ]
  },
  {
   "cell_type": "markdown",
   "metadata": {},
   "source": [
    "## Part 1 - Count up dictionary values\n",
    "\n",
    "Take the dictionary below and return a new dictionary that contains each of the values and a count of how many times they appear as values in the dictionary.\n",
    "\n",
    "I've provided some skeleton code.  Replace the comments with code that does the right thing.\n"
   ]
  },
  {
   "cell_type": "code",
   "execution_count": null,
   "metadata": {},
   "outputs": [],
   "source": [
    "patient_ages = {\n",
    "    \"E143291\": 19,\n",
    "    \"E872839\": 32,\n",
    "    \"E878198\": 19,\n",
    "    \"E871111\": 21,\n",
    "    \"E143299\": 3,\n",
    "    \"E123332\": 21,\n",
    "    \"E989891\":19\n",
    "} \n",
    "\n",
    "results = {}\n",
    "for id, age in patient_ages.items():\n",
    "    #1 Set results[age] = 0 if it doesn't exist yet\n",
    "    #2 Increment results[age] by 1\n",
    "    \n",
    "print(results)"
   ]
  },
  {
   "cell_type": "markdown",
   "metadata": {},
   "source": [
    "The expected output here would be:\n",
    "```\n",
    "{3: 1, 19: 3, 21: 2, 32: 1}\n",
    "```"
   ]
  },
  {
   "cell_type": "markdown",
   "metadata": {},
   "source": [
    "Part 2 - Count by Gender\n",
    "---\n",
    "\n",
    "Now consider the more complex dictionary below.  This one is two levels of dictionary.  That is, the information about each patient is also a dictionary.  The *sub dictionaries* for each patient each contain two named values: *age* and *gender*.  Compute the average age for each gender.  Some skeleton code is provided.\n",
    "\n"
   ]
  },
  {
   "cell_type": "code",
   "execution_count": null,
   "metadata": {},
   "outputs": [],
   "source": [
    "patients = {\n",
    "    \"E143291\": { \"age\": 19, \"gender\": \"M\" },\n",
    "    \"E872839\": { \"age\": 32, \"gender\": \"F\" },\n",
    "    \"E878198\": { \"age\": 19, \"gender\": \"F\" },\n",
    "    \"E871111\": { \"age\": 21, \"gender\": \"F\" },\n",
    "    \"E143299\": { \"age\": 3,  \"gender\": \"M\" },\n",
    "    \"E123332\": { \"age\": 21, \"gender\": \"M\" },\n",
    "    \"E989891\": { \"age\": 19, \"gender\": \"F\" }\n",
    "}\n",
    "\n",
    "gender_stats = {}\n",
    "for pid, info in patients.items():\n",
    "    age = #\n",
    "    gender = #\n",
    "    gender_stats.setdefault(gender, { \"count\": 0, \"total\": 0 })\n",
    "    #1 update the count for that gender in gender_stats\n",
    "    #2 update the total for that gender in gender_stats\n",
    "    \n",
    "for gender, info in gender_stats.items():\n",
    "    #3 compute avg\n",
    "    print(\"The average age for {} gender is {}\".format(gender, avg))\n",
    "    "
   ]
  },
  {
   "cell_type": "markdown",
   "metadata": {},
   "source": [
    "The expected output should be:\n",
    "\n",
    "```\n",
    "The average age for F gender is 22.75\n",
    "The average age for M gender is 14.333333333333334\n",
    "```"
   ]
  },
  {
   "cell_type": "markdown",
   "metadata": {},
   "source": [
    "## Part 3 - Count up how many unique values are in the values\n",
    "\n",
    "Try to solve this one in one line if you can...\n",
    "\n",
    "Take the first dictionary from above and count the number of unique ages that appear in the dictionary values.\n"
   ]
  },
  {
   "cell_type": "code",
   "execution_count": null,
   "metadata": {},
   "outputs": [],
   "source": [
    "patient_ages = {\n",
    "    \"E143291\": 19,\n",
    "    \"E872839\": 32,\n",
    "    \"E878198\": 19,\n",
    "    \"E871111\": 21,\n",
    "    \"E143299\": 3,\n",
    "    \"E123332\": 21,\n",
    "    \"E989891\":19\n",
    "} \n",
    "\n",
    "# Count the unique set of values from the list of values (ages) from the dictionary\n"
   ]
  },
  {
   "cell_type": "markdown",
   "metadata": {},
   "source": [
    "The expected output here would be:\n",
    "```\n",
    "4\n",
    "```"
   ]
  },
  {
   "cell_type": "markdown",
   "metadata": {},
   "source": [
    "## Part 4 - Convert a list to a dictionary\n",
    "\n",
    "Take the list of lists below and convert it into a dictionary where the entries in the dictionary are keyed off of whatever values are in column 0, and the dictionary values are the list of all the values that appear with that key from the input list.  See the example below."
   ]
  },
  {
   "cell_type": "code",
   "execution_count": null,
   "metadata": {},
   "outputs": [],
   "source": [
    "names = [['Boal', 'Paul'],\n",
    "         ['Duck', 'Donald'],\n",
    "         ['Duck', 'Daisy'],\n",
    "         ['Boal', 'Ada'],\n",
    "         ['Boal', 'Teddy'],\n",
    "         ['Westhus', 'Eric']]\n",
    "\n",
    "families = {}\n",
    "\n",
    "for name in names:\n",
    "    last = name[0]\n",
    "    first = name[1]\n",
    "    families.setdefault(last, [])\n",
    "    #1 Append the first name onto the list for that last name\n",
    "    \n",
    "families"
   ]
  },
  {
   "cell_type": "markdown",
   "metadata": {},
   "source": [
    "Expected output is:\n",
    "```\n",
    "{\n",
    " 'Boal':    ['Paul', 'Ada', 'Teddy'],\n",
    " 'Duck':    ['Donald', 'Daisy'],\n",
    " 'Westhus': ['Eric']\n",
    "}\n",
    " ```"
   ]
  },
  {
   "cell_type": "markdown",
   "metadata": {},
   "source": [
    "## Part 5 - Join using a dictionary\n",
    "\n",
    "We have a list of patients, diagnosis, and length of stay.  We also have a dictionary that contains diagnosis and average length of stay.  Produce an output list that lists the patient and an indicator if the patient's stay was 'too long', 'too short', 'just right'"
   ]
  },
  {
   "cell_type": "code",
   "execution_count": 9,
   "metadata": {},
   "outputs": [],
   "source": [
    "avg_los = {\n",
    "    \"Hemolytic jaundice and perinatal jaundice\" : 2,\n",
    "    \"Medical examination/evaluation\" : 3.2,\n",
    "    \"Liveborn\" : 3.2,\n",
    "    \"Trauma to perineum and vulva\" : 2.1,\n",
    "    \"Normal pregnancy and/or delivery\" : 2,\n",
    "    \"Umbilical cord complication\" : 2.1,\n",
    "    \"Forceps delivery\" : 2.2,\n",
    "    \"Administrative/social admission\" : 4.2,\n",
    "    \"Prolonged pregnancy\" : 2.4,\n",
    "    \"Other complications of pregnancy\" : 2.5\n",
    "}\n",
    "\n",
    "patients = [\n",
    "    ['Boal', 'Medical examination/evaluation', 1.1],\n",
    "    ['Boal', 'Other complications of pregnancy', 3.3],\n",
    "    ['Jones', 'Liveborn', 3.2],\n",
    "    ['Ashbury', 'Forceps delivery', 2.0]\n",
    "]"
   ]
  },
  {
   "cell_type": "code",
   "execution_count": 10,
   "metadata": {},
   "outputs": [
    {
     "data": {
      "text/plain": [
       "[['Boal', 'too short'],\n",
       " ['Boal', 'too long'],\n",
       " ['Jones', 'just right'],\n",
       " ['Ashbury', 'too short']]"
      ]
     },
     "execution_count": 10,
     "metadata": {},
     "output_type": "execute_result"
    }
   ],
   "source": [
    "los = []\n",
    "\n",
    "for pat in patients:\n",
    "    last = #1 Pull out the last name\n",
    "    code = #2 Pull out the procedure code\n",
    "    days = #3 Pull out the number of days\n",
    "    target = #4 From avg_log, get the value that corresponds to this patient's procedure code\n",
    "\n",
    "    #5 Set a status depending how the actual days and the target compare\n",
    "    \n",
    "    los.append([last,status])\n",
    "    \n",
    "los"
   ]
  },
  {
   "cell_type": "markdown",
   "metadata": {},
   "source": [
    "The output we expect to get is:\n",
    "```\n",
    "[['Boal', 'too short'],\n",
    " ['Boal', 'too long'],\n",
    " ['Jones', 'just right'],\n",
    " ['Ashbury', 'too short']]\n",
    "```"
   ]
  },
  {
   "cell_type": "markdown",
   "metadata": {
    "collapsed": true
   },
   "source": [
    "Part 6 - CSV dictionary reader\n",
    "---\n",
    "\n",
    "Read in `/data/aco_year1.csv` using the DictReader function.  Then aggregate how many plans are availablbe in each state.  Note that the column, States Where Beneficiaries Reside, can have a comma separate list of values in it.\n"
   ]
  },
  {
   "cell_type": "code",
   "execution_count": null,
   "metadata": {},
   "outputs": [],
   "source": [
    "import csv\n",
    "\n",
    "acos = {}\n",
    "\n",
    "with open('/data/aco_year1.csv') as file:\n",
    "    csv = csv.DictReader(file)\n",
    "    for r in csv:\n",
    "        states = #1 Get this row's value from the 'States Where Beneficiaries Reside' column and split into a list\n",
    "        for s in states:\n",
    "            #2 Clean up any spaces from teh state name\n",
    "            #3 Store or increment the counter for this state\n",
    "            \n",
    "\n",
    "acos"
   ]
  },
  {
   "cell_type": "markdown",
   "metadata": {},
   "source": [
    "The result should bbe something simliar to:\n",
    "```\n",
    "{'Alabama': 3,\n",
    " 'Arizona': 7,\n",
    " 'Arkansas': 2,\n",
    " 'California': 17,\n",
    " 'Colorado': 1,\n",
    " 'Connecticut': 11,\n",
    " 'Delaware': 1,\n",
    " 'District of Columbia': 3,\n",
    " 'Florida': 31,\n",
    " 'Georgia': 13,\n",
    " 'Idaho': 1,\n",
    " 'Illinois': 12,\n",
    " 'Indiana': 10,\n",
    " 'Iowa': 6,\n",
    " 'Kansas': 2,\n",
    " 'Kentucky': 7,\n",
    " ...\n",
    " ```"
   ]
  },
  {
   "cell_type": "code",
   "execution_count": null,
   "metadata": {},
   "outputs": [],
   "source": []
  }
 ],
 "metadata": {
  "kernelspec": {
   "display_name": "Python 3",
   "language": "python",
   "name": "python3"
  },
  "language_info": {
   "codemirror_mode": {
    "name": "ipython",
    "version": 3
   },
   "file_extension": ".py",
   "mimetype": "text/x-python",
   "name": "python",
   "nbconvert_exporter": "python",
   "pygments_lexer": "ipython3",
   "version": "3.5.2"
  }
 },
 "nbformat": 4,
 "nbformat_minor": 1
}
